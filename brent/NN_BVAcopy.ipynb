{
 "cells": [
  {
   "cell_type": "markdown",
   "id": "ac69f4e0",
   "metadata": {},
   "source": [
    "# Modeling"
   ]
  },
  {
   "cell_type": "markdown",
   "id": "281e6543",
   "metadata": {},
   "source": [
    "# Neural Network Classifier "
   ]
  },
  {
   "cell_type": "markdown",
   "id": "ac64185f",
   "metadata": {},
   "source": [
    "Going to set up our dataset by scaling and handling the imbalanced data.\n",
    "\n",
    "We then will fit a basic NeuralNetworkClassifier to see if we can find some obvious issues as well as noting what a \"first try\" model looks like as a baseline, beyond our null model.\n",
    "\n",
    "After that \"first try\" model, we will fix any obvious issues then iterate through GridSearches to optimize hyperparameters based on general knowledge of NN and ranges established through previous GridSearches."
   ]
  },
  {
   "cell_type": "markdown",
   "id": "1984f63b",
   "metadata": {},
   "source": [
    "## Imports"
   ]
  },
  {
   "cell_type": "code",
   "execution_count": 16,
   "id": "bfb96bfe",
   "metadata": {},
   "outputs": [],
   "source": [
    "import pandas as pd\n",
    "import numpy as np\n",
    "import matplotlib.pyplot as plt\n",
    "%matplotlib inline\n",
    "\n",
    "from sklearn import metrics\n",
    "from sklearn.model_selection import train_test_split, GridSearchCV\n",
    "from sklearn.preprocessing import StandardScaler\n",
    "\n",
    "import tensorflow as tf\n",
    "from tensorflow.keras.models import Sequential\n",
    "from tensorflow.keras.layers import Dense, GRU\n",
    "from tensorflow.keras.layers import Dropout\n",
    "from tensorflow.keras.callbacks import EarlyStopping\n",
    "from tensorflow.keras.wrappers.scikit_learn import KerasClassifier\n",
    "\n",
    "from imblearn.under_sampling import NearMiss, RandomUnderSampler\n",
    "from imblearn.over_sampling import SMOTE, RandomOverSampler\n",
    "from collections import Counter"
   ]
  },
  {
   "cell_type": "markdown",
   "id": "b058a9af",
   "metadata": {},
   "source": [
    "## Read in Data\n",
    "\n",
    "Import data and observe the basics"
   ]
  },
  {
   "cell_type": "code",
   "execution_count": 3,
   "id": "ddf8500e",
   "metadata": {
    "scrolled": false
   },
   "outputs": [
    {
     "name": "stdout",
     "output_type": "stream",
     "text": [
      "(16829, 67)\n"
     ]
    },
    {
     "data": {
      "text/html": [
       "<div>\n",
       "<style scoped>\n",
       "    .dataframe tbody tr th:only-of-type {\n",
       "        vertical-align: middle;\n",
       "    }\n",
       "\n",
       "    .dataframe tbody tr th {\n",
       "        vertical-align: top;\n",
       "    }\n",
       "\n",
       "    .dataframe thead th {\n",
       "        text-align: right;\n",
       "    }\n",
       "</style>\n",
       "<table border=\"1\" class=\"dataframe\">\n",
       "  <thead>\n",
       "    <tr style=\"text-align: right;\">\n",
       "      <th></th>\n",
       "      <th>Unnamed: 0</th>\n",
       "      <th>Unnamed: 0.1</th>\n",
       "      <th>ACCGDLN</th>\n",
       "      <th>AGE</th>\n",
       "      <th>ALTDUM</th>\n",
       "      <th>AMENDYR</th>\n",
       "      <th>AMTTOTAL</th>\n",
       "      <th>CASETYPE</th>\n",
       "      <th>CITWHERE</th>\n",
       "      <th>COMBDRG2</th>\n",
       "      <th>...</th>\n",
       "      <th>TYPEMONY</th>\n",
       "      <th>TYPEOTHS</th>\n",
       "      <th>UNIT1</th>\n",
       "      <th>MWGT1</th>\n",
       "      <th>WGT1</th>\n",
       "      <th>XCRHISSR</th>\n",
       "      <th>XFOLSOR</th>\n",
       "      <th>XMAXSOR</th>\n",
       "      <th>XMINSOR</th>\n",
       "      <th>SENTRNGE</th>\n",
       "    </tr>\n",
       "  </thead>\n",
       "  <tbody>\n",
       "    <tr>\n",
       "      <th>0</th>\n",
       "      <td>0</td>\n",
       "      <td>6</td>\n",
       "      <td>1.0</td>\n",
       "      <td>20.0</td>\n",
       "      <td>0</td>\n",
       "      <td>2018.0</td>\n",
       "      <td>0</td>\n",
       "      <td>1.0</td>\n",
       "      <td>211.0</td>\n",
       "      <td>6.0</td>\n",
       "      <td>...</td>\n",
       "      <td>1.0</td>\n",
       "      <td>0</td>\n",
       "      <td>1.0</td>\n",
       "      <td>6.356099e+07</td>\n",
       "      <td>85104.433315</td>\n",
       "      <td>1.0</td>\n",
       "      <td>17.0</td>\n",
       "      <td>30.0</td>\n",
       "      <td>24.0</td>\n",
       "      <td>8.0</td>\n",
       "    </tr>\n",
       "    <tr>\n",
       "      <th>1</th>\n",
       "      <td>1</td>\n",
       "      <td>14</td>\n",
       "      <td>1.0</td>\n",
       "      <td>64.0</td>\n",
       "      <td>0</td>\n",
       "      <td>2018.0</td>\n",
       "      <td>0</td>\n",
       "      <td>1.0</td>\n",
       "      <td>211.0</td>\n",
       "      <td>1.0</td>\n",
       "      <td>...</td>\n",
       "      <td>1.0</td>\n",
       "      <td>0</td>\n",
       "      <td>1.0</td>\n",
       "      <td>1.193400e+06</td>\n",
       "      <td>5967.000000</td>\n",
       "      <td>3.0</td>\n",
       "      <td>27.0</td>\n",
       "      <td>108.0</td>\n",
       "      <td>87.0</td>\n",
       "      <td>0.0</td>\n",
       "    </tr>\n",
       "    <tr>\n",
       "      <th>2</th>\n",
       "      <td>2</td>\n",
       "      <td>15</td>\n",
       "      <td>1.0</td>\n",
       "      <td>28.0</td>\n",
       "      <td>0</td>\n",
       "      <td>2018.0</td>\n",
       "      <td>0</td>\n",
       "      <td>1.0</td>\n",
       "      <td>211.0</td>\n",
       "      <td>3.0</td>\n",
       "      <td>...</td>\n",
       "      <td>1.0</td>\n",
       "      <td>0</td>\n",
       "      <td>2.0</td>\n",
       "      <td>2.000000e+06</td>\n",
       "      <td>2000.000000</td>\n",
       "      <td>6.0</td>\n",
       "      <td>27.0</td>\n",
       "      <td>162.0</td>\n",
       "      <td>130.0</td>\n",
       "      <td>2.0</td>\n",
       "    </tr>\n",
       "    <tr>\n",
       "      <th>3</th>\n",
       "      <td>3</td>\n",
       "      <td>26</td>\n",
       "      <td>2.0</td>\n",
       "      <td>55.0</td>\n",
       "      <td>0</td>\n",
       "      <td>2018.0</td>\n",
       "      <td>0</td>\n",
       "      <td>1.0</td>\n",
       "      <td>211.0</td>\n",
       "      <td>77.0</td>\n",
       "      <td>...</td>\n",
       "      <td>1.0</td>\n",
       "      <td>0</td>\n",
       "      <td>1.0</td>\n",
       "      <td>1.030000e+04</td>\n",
       "      <td>4.120000</td>\n",
       "      <td>5.0</td>\n",
       "      <td>13.0</td>\n",
       "      <td>37.0</td>\n",
       "      <td>30.0</td>\n",
       "      <td>0.0</td>\n",
       "    </tr>\n",
       "    <tr>\n",
       "      <th>4</th>\n",
       "      <td>4</td>\n",
       "      <td>29</td>\n",
       "      <td>1.0</td>\n",
       "      <td>30.0</td>\n",
       "      <td>0</td>\n",
       "      <td>2018.0</td>\n",
       "      <td>0</td>\n",
       "      <td>1.0</td>\n",
       "      <td>211.0</td>\n",
       "      <td>6.0</td>\n",
       "      <td>...</td>\n",
       "      <td>1.0</td>\n",
       "      <td>0</td>\n",
       "      <td>1.0</td>\n",
       "      <td>1.692000e+05</td>\n",
       "      <td>84.600000</td>\n",
       "      <td>6.0</td>\n",
       "      <td>25.0</td>\n",
       "      <td>137.0</td>\n",
       "      <td>110.0</td>\n",
       "      <td>2.0</td>\n",
       "    </tr>\n",
       "  </tbody>\n",
       "</table>\n",
       "<p>5 rows × 67 columns</p>\n",
       "</div>"
      ],
      "text/plain": [
       "   Unnamed: 0  Unnamed: 0.1  ACCGDLN   AGE  ALTDUM  AMENDYR  AMTTOTAL  \\\n",
       "0           0             6      1.0  20.0       0   2018.0         0   \n",
       "1           1            14      1.0  64.0       0   2018.0         0   \n",
       "2           2            15      1.0  28.0       0   2018.0         0   \n",
       "3           3            26      2.0  55.0       0   2018.0         0   \n",
       "4           4            29      1.0  30.0       0   2018.0         0   \n",
       "\n",
       "   CASETYPE  CITWHERE  COMBDRG2  ...  TYPEMONY  TYPEOTHS  UNIT1         MWGT1  \\\n",
       "0       1.0     211.0       6.0  ...       1.0         0    1.0  6.356099e+07   \n",
       "1       1.0     211.0       1.0  ...       1.0         0    1.0  1.193400e+06   \n",
       "2       1.0     211.0       3.0  ...       1.0         0    2.0  2.000000e+06   \n",
       "3       1.0     211.0      77.0  ...       1.0         0    1.0  1.030000e+04   \n",
       "4       1.0     211.0       6.0  ...       1.0         0    1.0  1.692000e+05   \n",
       "\n",
       "           WGT1  XCRHISSR  XFOLSOR  XMAXSOR  XMINSOR  SENTRNGE  \n",
       "0  85104.433315       1.0     17.0     30.0     24.0       8.0  \n",
       "1   5967.000000       3.0     27.0    108.0     87.0       0.0  \n",
       "2   2000.000000       6.0     27.0    162.0    130.0       2.0  \n",
       "3      4.120000       5.0     13.0     37.0     30.0       0.0  \n",
       "4     84.600000       6.0     25.0    137.0    110.0       2.0  \n",
       "\n",
       "[5 rows x 67 columns]"
      ]
     },
     "execution_count": 3,
     "metadata": {},
     "output_type": "execute_result"
    }
   ],
   "source": [
    "csv_file = \"../drugs_2020_simply_imputed.csv\"\n",
    "df = pd.read_csv(csv_file)\n",
    "print(df.shape)\n",
    "df.head()"
   ]
  },
  {
   "cell_type": "markdown",
   "id": "550fed52",
   "metadata": {},
   "source": [
    "> **16829 rows and 67 columns**\n",
    ">> **However some of these columns are dropped and one is our target columns, PRISDUM**"
   ]
  },
  {
   "cell_type": "code",
   "execution_count": 7,
   "id": "7ddb9432",
   "metadata": {},
   "outputs": [
    {
     "data": {
      "text/plain": [
       "Index(['ACCGDLN', 'AGE', 'ALTDUM', 'AMTTOTAL', 'CASETYPE', 'CITWHERE',\n",
       "       'COMBDRG2', 'CRIMHIST', 'DISPOSIT', 'DISTRICT', 'DRUGMIN', 'DSPLEA',\n",
       "       'EDUCATN', 'INTDUM', 'METHMIN', 'MONRACE', 'MONSEX', 'MWEIGHT',\n",
       "       'NEWCIT', 'NEWCNVTN', 'NEWEDUC', 'NEWRACE', 'NODRUG', 'NUMDEPEN',\n",
       "       'OFFGUIDE', 'PRISDUM', 'PROBATN', 'PROBDUM', 'QUARTER', 'REAS1',\n",
       "       'REAS2', 'REAS3', 'REGSXMIN', 'RELMIN', 'RESTDET1', 'RESTDUM', 'SAFE',\n",
       "       'SAFETY', 'SENSPCAP', 'SENSPLT0', 'SENTIMP', 'SMAX1', 'SMIN1',\n",
       "       'SOURCES', 'STATMAX', 'STATMIN', 'SUPERMAX', 'SUPERMIN', 'SUPREL',\n",
       "       'TIMSERVC', 'TOTCHPTS', 'TOTREST', 'TOTUNIT', 'TYPEMONY', 'TYPEOTHS',\n",
       "       'UNIT1', 'MWGT1', 'WGT1', 'XCRHISSR', 'XFOLSOR', 'XMAXSOR', 'XMINSOR',\n",
       "       'SENTRNGE'],\n",
       "      dtype='object')"
      ]
     },
     "execution_count": 7,
     "metadata": {},
     "output_type": "execute_result"
    }
   ],
   "source": [
    "df.columns"
   ]
  },
  {
   "cell_type": "markdown",
   "id": "8b606eea",
   "metadata": {},
   "source": [
    "- Drop the index columns created from saving a DataFrame to a csv.\n",
    "- Also drop the columns we have identified as either too correlated or not useful for our model."
   ]
  },
  {
   "cell_type": "code",
   "execution_count": 6,
   "id": "44296941",
   "metadata": {},
   "outputs": [],
   "source": [
    "df.drop(columns=['Unnamed: 0', 'Unnamed: 0.1', 'AMENDYR', 'SUPRDUM'], inplace=True)"
   ]
  },
  {
   "cell_type": "markdown",
   "id": "38de1d7a",
   "metadata": {},
   "source": [
    "## Train Test Split"
   ]
  },
  {
   "cell_type": "markdown",
   "id": "cbe9a671",
   "metadata": {},
   "source": [
    "Set our X and Y"
   ]
  },
  {
   "cell_type": "code",
   "execution_count": 8,
   "id": "67318b77",
   "metadata": {},
   "outputs": [],
   "source": [
    "X = df.drop(columns='PRISDUM')\n",
    "y = df['PRISDUM']"
   ]
  },
  {
   "cell_type": "code",
   "execution_count": 9,
   "id": "a8f3d9f5",
   "metadata": {},
   "outputs": [],
   "source": [
    "X_train, X_test, y_train, y_test = train_test_split(X, y, stratify=y)"
   ]
  },
  {
   "cell_type": "markdown",
   "id": "829540aa",
   "metadata": {},
   "source": [
    "## Scale Data for Neural Network Classifier"
   ]
  },
  {
   "cell_type": "code",
   "execution_count": 10,
   "id": "8621c173",
   "metadata": {},
   "outputs": [],
   "source": [
    "sc = StandardScaler()\n",
    "X_train_sc = sc.fit_transform(X_train)\n",
    "X_test_sc = sc.transform(X_test)"
   ]
  },
  {
   "cell_type": "markdown",
   "id": "7cce7d54",
   "metadata": {},
   "source": [
    "### Null Model"
   ]
  },
  {
   "cell_type": "code",
   "execution_count": 12,
   "id": "a1b9fe2c",
   "metadata": {},
   "outputs": [
    {
     "data": {
      "text/plain": [
       "1    0.955196\n",
       "0    0.044804\n",
       "Name: PRISDUM, dtype: float64"
      ]
     },
     "execution_count": 12,
     "metadata": {},
     "output_type": "execute_result"
    }
   ],
   "source": [
    "y.value_counts(normalize=True)"
   ]
  },
  {
   "cell_type": "markdown",
   "id": "c92d4b27",
   "metadata": {},
   "source": [
    "> We see that we have a very imblanced dataset."
   ]
  },
  {
   "cell_type": "markdown",
   "id": "3c70cf2e",
   "metadata": {},
   "source": [
    "### Model on Imblanaced Data"
   ]
  },
  {
   "cell_type": "code",
   "execution_count": 21,
   "id": "908248a3",
   "metadata": {
    "scrolled": true
   },
   "outputs": [
    {
     "name": "stdout",
     "output_type": "stream",
     "text": [
      "Epoch 1/200\n",
      "395/395 [==============================] - 2s 2ms/step - loss: 0.1595 - accuracy: 0.9441 - val_loss: 0.0371 - val_accuracy: 0.9957\n",
      "Epoch 2/200\n",
      "395/395 [==============================] - 1s 2ms/step - loss: 0.0423 - accuracy: 0.9893 - val_loss: 0.0070 - val_accuracy: 0.9981\n",
      "Epoch 3/200\n",
      "395/395 [==============================] - 1s 2ms/step - loss: 0.0271 - accuracy: 0.9929 - val_loss: 0.0070 - val_accuracy: 0.9983\n",
      "Epoch 4/200\n",
      "395/395 [==============================] - 1s 2ms/step - loss: 0.0252 - accuracy: 0.9930 - val_loss: 0.0079 - val_accuracy: 0.9981\n",
      "Epoch 5/200\n",
      "395/395 [==============================] - 1s 2ms/step - loss: 0.0164 - accuracy: 0.9952 - val_loss: 0.0061 - val_accuracy: 0.9981\n",
      "Epoch 6/200\n",
      "395/395 [==============================] - 1s 2ms/step - loss: 0.0159 - accuracy: 0.9956 - val_loss: 0.0079 - val_accuracy: 0.9988\n",
      "Epoch 7/200\n",
      "395/395 [==============================] - 1s 2ms/step - loss: 0.0116 - accuracy: 0.9966 - val_loss: 0.0071 - val_accuracy: 0.9981\n",
      "Epoch 8/200\n",
      "395/395 [==============================] - 1s 2ms/step - loss: 0.0119 - accuracy: 0.9974 - val_loss: 0.0082 - val_accuracy: 0.9981\n",
      "Epoch 9/200\n",
      "395/395 [==============================] - 1s 2ms/step - loss: 0.0100 - accuracy: 0.9972 - val_loss: 0.0081 - val_accuracy: 0.9979\n",
      "Epoch 10/200\n",
      "395/395 [==============================] - 1s 2ms/step - loss: 0.0094 - accuracy: 0.9973 - val_loss: 0.0109 - val_accuracy: 0.9981\n",
      "Epoch 11/200\n",
      "395/395 [==============================] - 1s 2ms/step - loss: 0.0115 - accuracy: 0.9970 - val_loss: 0.0078 - val_accuracy: 0.9981\n",
      "Epoch 12/200\n",
      "395/395 [==============================] - 1s 2ms/step - loss: 0.0090 - accuracy: 0.9972 - val_loss: 0.0064 - val_accuracy: 0.9986\n",
      "Epoch 13/200\n",
      "395/395 [==============================] - 1s 2ms/step - loss: 0.0079 - accuracy: 0.9977 - val_loss: 0.0064 - val_accuracy: 0.9983\n",
      "Epoch 14/200\n",
      "395/395 [==============================] - 1s 2ms/step - loss: 0.0127 - accuracy: 0.9975 - val_loss: 0.0065 - val_accuracy: 0.9983\n",
      "Epoch 15/200\n",
      "395/395 [==============================] - 1s 2ms/step - loss: 0.0073 - accuracy: 0.9976 - val_loss: 0.0070 - val_accuracy: 0.9988\n",
      "Epoch 00015: early stopping\n"
     ]
    }
   ],
   "source": [
    "model = Sequential()\n",
    "model.add(Dense(17, input_shape=(X.shape[1],), activation='relu'))\n",
    "model.add(Dropout(0.2))\n",
    "model.add(Dense(20, activation='relu'))\n",
    "model.add(Dropout(0.2))\n",
    "model.add(Dense(30, activation='relu'))\n",
    "model.add(Dropout(0.2))\n",
    "model.add(Dense(40, activation='relu'))\n",
    "model.add(Dropout(0.2))\n",
    "model.add(Dense(50, activation='relu'))\n",
    "model.add(Dropout(0.2))\n",
    "model.add(Dense(30, activation='relu'))\n",
    "model.add(Dropout(0.2))\n",
    "model.add(Dense(20, activation='relu'))\n",
    "model.add(Dropout(0.2))\n",
    "model.add(Dense(1, activation='sigmoid'))\n",
    "\n",
    "model.compile(loss='bce', \n",
    "              optimizer='adam', \n",
    "              metrics=['accuracy'])\n",
    "\n",
    "early_stop = EarlyStopping(monitor='val_loss', patience=10, verbose=1)\n",
    "\n",
    "history = model.fit(\n",
    "    X_train_sc,\n",
    "    y_train,\n",
    "    validation_data=(X_test_sc, y_test),\n",
    "    epochs=200,\n",
    "    callbacks=[early_stop]\n",
    ")"
   ]
  },
  {
   "cell_type": "markdown",
   "id": "cf79a005",
   "metadata": {},
   "source": [
    "#### Analysis:\n",
    "Results: loss: 0.0073 - accuracy: 0.9976 - val_loss: 0.0070 - val_accuracy: 0.9988\n",
    "\n",
    "As expected, a very accurate model. However, not a massive improvement over our null model and therefore likely suffering because of that imbalance."
   ]
  },
  {
   "cell_type": "markdown",
   "id": "a47f2e1b",
   "metadata": {},
   "source": [
    "---"
   ]
  },
  {
   "cell_type": "markdown",
   "id": "982e92a3",
   "metadata": {},
   "source": [
    "## Balance Imbalanced Data"
   ]
  },
  {
   "cell_type": "markdown",
   "id": "1a1107c1",
   "metadata": {},
   "source": [
    "### Under Sample Majority"
   ]
  },
  {
   "cell_type": "code",
   "execution_count": 17,
   "id": "e9805517",
   "metadata": {},
   "outputs": [],
   "source": [
    "nm = RandomUnderSampler()\n",
    "X_train_under, y_train_under = nm.fit_resample(X_train_sc, y_train)"
   ]
  },
  {
   "cell_type": "code",
   "execution_count": 19,
   "id": "ce213856",
   "metadata": {},
   "outputs": [
    {
     "data": {
      "text/plain": [
       "0    0.5\n",
       "1    0.5\n",
       "Name: PRISDUM, dtype: float64"
      ]
     },
     "execution_count": 19,
     "metadata": {},
     "output_type": "execute_result"
    }
   ],
   "source": [
    "y_train_under.value_counts(normalize=True)"
   ]
  },
  {
   "cell_type": "code",
   "execution_count": 18,
   "id": "94a8ff06",
   "metadata": {
    "scrolled": true
   },
   "outputs": [
    {
     "name": "stdout",
     "output_type": "stream",
     "text": [
      "Epoch 1/200\n",
      "36/36 [==============================] - 1s 9ms/step - loss: 0.6286 - accuracy: 0.5717 - val_loss: 0.7135 - val_accuracy: 0.6704\n",
      "Epoch 2/200\n",
      "36/36 [==============================] - 0s 5ms/step - loss: 0.5005 - accuracy: 0.8221 - val_loss: 0.6235 - val_accuracy: 0.8985\n",
      "Epoch 3/200\n",
      "36/36 [==============================] - 0s 5ms/step - loss: 0.4036 - accuracy: 0.9080 - val_loss: 0.4718 - val_accuracy: 0.9679\n",
      "Epoch 4/200\n",
      "36/36 [==============================] - 0s 4ms/step - loss: 0.3021 - accuracy: 0.9442 - val_loss: 0.3086 - val_accuracy: 0.9703\n",
      "Epoch 5/200\n",
      "36/36 [==============================] - 0s 4ms/step - loss: 0.2032 - accuracy: 0.9504 - val_loss: 0.1699 - val_accuracy: 0.9755\n",
      "Epoch 6/200\n",
      "36/36 [==============================] - 0s 5ms/step - loss: 0.1250 - accuracy: 0.9646 - val_loss: 0.0606 - val_accuracy: 0.9922\n",
      "Epoch 7/200\n",
      "36/36 [==============================] - 0s 4ms/step - loss: 0.1096 - accuracy: 0.9664 - val_loss: 0.0704 - val_accuracy: 0.9829\n",
      "Epoch 8/200\n",
      "36/36 [==============================] - 0s 4ms/step - loss: 0.0843 - accuracy: 0.9805 - val_loss: 0.0583 - val_accuracy: 0.9888\n",
      "Epoch 9/200\n",
      "36/36 [==============================] - 0s 5ms/step - loss: 0.0982 - accuracy: 0.9717 - val_loss: 0.0460 - val_accuracy: 0.9931\n",
      "Epoch 10/200\n",
      "36/36 [==============================] - 0s 4ms/step - loss: 0.0815 - accuracy: 0.9832 - val_loss: 0.0537 - val_accuracy: 0.9910\n",
      "Epoch 11/200\n",
      "36/36 [==============================] - 0s 4ms/step - loss: 0.0711 - accuracy: 0.9841 - val_loss: 0.0640 - val_accuracy: 0.9914\n",
      "Epoch 12/200\n",
      "36/36 [==============================] - 0s 5ms/step - loss: 0.0659 - accuracy: 0.9823 - val_loss: 0.0749 - val_accuracy: 0.9891\n",
      "Epoch 13/200\n",
      "36/36 [==============================] - 0s 5ms/step - loss: 0.0557 - accuracy: 0.9805 - val_loss: 0.0763 - val_accuracy: 0.9888\n",
      "Epoch 14/200\n",
      "36/36 [==============================] - 0s 4ms/step - loss: 0.0398 - accuracy: 0.9867 - val_loss: 0.0891 - val_accuracy: 0.9876\n",
      "Epoch 15/200\n",
      "36/36 [==============================] - 0s 5ms/step - loss: 0.0534 - accuracy: 0.9823 - val_loss: 0.0964 - val_accuracy: 0.9881\n",
      "Epoch 16/200\n",
      "36/36 [==============================] - 0s 5ms/step - loss: 0.0421 - accuracy: 0.9867 - val_loss: 0.0994 - val_accuracy: 0.9910\n",
      "Epoch 17/200\n",
      "36/36 [==============================] - 0s 4ms/step - loss: 0.0334 - accuracy: 0.9894 - val_loss: 0.1086 - val_accuracy: 0.9912\n",
      "Epoch 18/200\n",
      "36/36 [==============================] - 0s 5ms/step - loss: 0.0345 - accuracy: 0.9903 - val_loss: 0.1242 - val_accuracy: 0.9903\n",
      "Epoch 19/200\n",
      "36/36 [==============================] - 0s 5ms/step - loss: 0.0301 - accuracy: 0.9876 - val_loss: 0.1276 - val_accuracy: 0.9903\n",
      "Epoch 00019: early stopping\n"
     ]
    }
   ],
   "source": [
    "model = Sequential()\n",
    "model.add(Dense(17, input_shape=(X.shape[1],), activation='relu'))\n",
    "model.add(Dropout(0.2))\n",
    "model.add(Dense(20, activation='relu'))\n",
    "model.add(Dropout(0.2))\n",
    "model.add(Dense(30, activation='relu'))\n",
    "model.add(Dropout(0.2))\n",
    "model.add(Dense(40, activation='relu'))\n",
    "model.add(Dropout(0.2))\n",
    "model.add(Dense(50, activation='relu'))\n",
    "model.add(Dropout(0.2))\n",
    "model.add(Dense(30, activation='relu'))\n",
    "model.add(Dropout(0.2))\n",
    "model.add(Dense(20, activation='relu'))\n",
    "model.add(Dropout(0.2))\n",
    "model.add(Dense(1, activation='sigmoid'))\n",
    "\n",
    "model.compile(loss='bce', \n",
    "              optimizer='adam', \n",
    "              metrics=['accuracy'])\n",
    "\n",
    "early_stop = EarlyStopping(monitor='val_loss', patience=10, verbose=1)\n",
    "\n",
    "history = model.fit(\n",
    "    X_train_under,\n",
    "    y_train_under,\n",
    "    validation_data=(X_test_sc, y_test),\n",
    "    epochs=200,\n",
    "    callbacks=[early_stop]\n",
    ")"
   ]
  },
  {
   "cell_type": "markdown",
   "id": "87aa645a",
   "metadata": {},
   "source": [
    "#### Analysis \n",
    "\n",
    "Results: loss: 0.0301 - accuracy: 0.9876 - val_loss: 0.1276 - val_accuracy: 0.9903\n",
    "\n",
    "This is still very wrong. There must be a variable giving it away."
   ]
  },
  {
   "cell_type": "markdown",
   "id": "7bb07fa1",
   "metadata": {},
   "source": [
    "### Over Sample Minority"
   ]
  },
  {
   "cell_type": "code",
   "execution_count": 25,
   "id": "e385a3fd",
   "metadata": {},
   "outputs": [],
   "source": [
    "ros = RandomOverSampler()\n",
    "\n",
    "X_train_over, y_train_over = ros.fit_resample(X_train_sc, y_train)"
   ]
  },
  {
   "cell_type": "code",
   "execution_count": 26,
   "id": "d715047e",
   "metadata": {
    "scrolled": true
   },
   "outputs": [
    {
     "name": "stdout",
     "output_type": "stream",
     "text": [
      "Epoch 1/200\n",
      "754/754 [==============================] - 2s 2ms/step - loss: 0.1481 - accuracy: 0.9400 - val_loss: 0.0705 - val_accuracy: 0.9898\n",
      "Epoch 2/200\n",
      "754/754 [==============================] - 1s 2ms/step - loss: 0.0340 - accuracy: 0.9901 - val_loss: 0.0416 - val_accuracy: 0.9919\n",
      "Epoch 3/200\n",
      "754/754 [==============================] - 1s 2ms/step - loss: 0.0250 - accuracy: 0.9930 - val_loss: 0.0099 - val_accuracy: 0.9964\n",
      "Epoch 4/200\n",
      "754/754 [==============================] - 1s 2ms/step - loss: 0.0204 - accuracy: 0.9949 - val_loss: 0.0133 - val_accuracy: 0.9955\n",
      "Epoch 5/200\n",
      "754/754 [==============================] - 1s 2ms/step - loss: 0.0162 - accuracy: 0.9955 - val_loss: 0.0105 - val_accuracy: 0.9969\n",
      "Epoch 6/200\n",
      "754/754 [==============================] - 1s 2ms/step - loss: 0.0138 - accuracy: 0.9968 - val_loss: 0.0120 - val_accuracy: 0.9979\n",
      "Epoch 7/200\n",
      "754/754 [==============================] - 1s 2ms/step - loss: 0.0118 - accuracy: 0.9976 - val_loss: 0.0122 - val_accuracy: 0.9979\n",
      "Epoch 8/200\n",
      "754/754 [==============================] - 1s 2ms/step - loss: 0.0117 - accuracy: 0.9975 - val_loss: 0.0124 - val_accuracy: 0.9986\n",
      "Epoch 9/200\n",
      "754/754 [==============================] - 1s 2ms/step - loss: 0.0118 - accuracy: 0.9977 - val_loss: 0.0141 - val_accuracy: 0.9981\n",
      "Epoch 10/200\n",
      "754/754 [==============================] - 1s 2ms/step - loss: 0.0108 - accuracy: 0.9981 - val_loss: 0.0113 - val_accuracy: 0.9983\n",
      "Epoch 11/200\n",
      "754/754 [==============================] - 1s 2ms/step - loss: 0.0089 - accuracy: 0.9981 - val_loss: 0.0103 - val_accuracy: 0.9986\n",
      "Epoch 12/200\n",
      "754/754 [==============================] - 1s 2ms/step - loss: 0.0089 - accuracy: 0.9986 - val_loss: 0.0111 - val_accuracy: 0.9986\n",
      "Epoch 13/200\n",
      "754/754 [==============================] - 1s 2ms/step - loss: 0.0081 - accuracy: 0.9983 - val_loss: 0.0173 - val_accuracy: 0.9983\n",
      "Epoch 00013: early stopping\n"
     ]
    }
   ],
   "source": [
    "model = Sequential()\n",
    "model.add(Dense(17, input_shape=(X.shape[1],), activation='relu'))\n",
    "model.add(Dropout(0.2))\n",
    "model.add(Dense(20, activation='relu'))\n",
    "model.add(Dropout(0.2))\n",
    "model.add(Dense(30, activation='relu'))\n",
    "model.add(Dropout(0.2))\n",
    "model.add(Dense(40, activation='relu'))\n",
    "model.add(Dropout(0.2))\n",
    "model.add(Dense(50, activation='relu'))\n",
    "model.add(Dropout(0.2))\n",
    "model.add(Dense(30, activation='relu'))\n",
    "model.add(Dropout(0.2))\n",
    "model.add(Dense(20, activation='relu'))\n",
    "model.add(Dropout(0.2))\n",
    "model.add(Dense(1, activation='sigmoid'))\n",
    "\n",
    "model.compile(loss='bce', \n",
    "              optimizer='adam', \n",
    "              metrics=['accuracy'])\n",
    "\n",
    "early_stop = EarlyStopping(monitor='val_loss', patience=10, verbose=1)\n",
    "\n",
    "history = model.fit(\n",
    "    X_train_over,\n",
    "    y_train_over,\n",
    "    validation_data=(X_test_sc, y_test),\n",
    "    epochs=200,\n",
    "    callbacks=[early_stop]\n",
    ")"
   ]
  },
  {
   "cell_type": "markdown",
   "id": "be261a5e",
   "metadata": {},
   "source": [
    "#### Analysis \n",
    "\n",
    "Results: loss: 0.0081 - accuracy: 0.9983 - val_loss: 0.0173 - val_accuracy: 0.9983\n",
    "\n",
    "This is still very wrong. There must be a variable giving it away."
   ]
  },
  {
   "cell_type": "markdown",
   "id": "618ebdb4",
   "metadata": {},
   "source": [
    "### Over Sample Minority"
   ]
  },
  {
   "cell_type": "code",
   "execution_count": 27,
   "id": "3e99ae53",
   "metadata": {},
   "outputs": [],
   "source": [
    "smo = SMOTE()\n",
    "\n",
    "X_train_smote, y_train_smote = smo.fit_resample(X_train_sc, y_train)"
   ]
  },
  {
   "cell_type": "code",
   "execution_count": 28,
   "id": "7af6c92a",
   "metadata": {
    "scrolled": true
   },
   "outputs": [
    {
     "name": "stdout",
     "output_type": "stream",
     "text": [
      "Epoch 1/200\n",
      "754/754 [==============================] - 2s 2ms/step - loss: 0.1439 - accuracy: 0.9422 - val_loss: 0.0642 - val_accuracy: 0.99140s - loss: 0.1442 - accuracy: 0.94\n",
      "Epoch 2/200\n",
      "754/754 [==============================] - 1s 2ms/step - loss: 0.0361 - accuracy: 0.9911 - val_loss: 0.0292 - val_accuracy: 0.9938\n",
      "Epoch 3/200\n",
      "754/754 [==============================] - 1s 2ms/step - loss: 0.0243 - accuracy: 0.9939 - val_loss: 0.0106 - val_accuracy: 0.9964\n",
      "Epoch 4/200\n",
      "754/754 [==============================] - 1s 2ms/step - loss: 0.0198 - accuracy: 0.9958 - val_loss: 0.0115 - val_accuracy: 0.9971\n",
      "Epoch 5/200\n",
      "754/754 [==============================] - 1s 2ms/step - loss: 0.0162 - accuracy: 0.9966 - val_loss: 0.0117 - val_accuracy: 0.9974\n",
      "Epoch 6/200\n",
      "754/754 [==============================] - 1s 2ms/step - loss: 0.0122 - accuracy: 0.9973 - val_loss: 0.0172 - val_accuracy: 0.9971\n",
      "Epoch 7/200\n",
      "754/754 [==============================] - 1s 2ms/step - loss: 0.0132 - accuracy: 0.9974 - val_loss: 0.0121 - val_accuracy: 0.9981\n",
      "Epoch 8/200\n",
      "754/754 [==============================] - 1s 2ms/step - loss: 0.0101 - accuracy: 0.9978 - val_loss: 0.0182 - val_accuracy: 0.9974\n",
      "Epoch 9/200\n",
      "754/754 [==============================] - 1s 2ms/step - loss: 0.0102 - accuracy: 0.9979 - val_loss: 0.0133 - val_accuracy: 0.9981\n",
      "Epoch 10/200\n",
      "754/754 [==============================] - 1s 2ms/step - loss: 0.0102 - accuracy: 0.9980 - val_loss: 0.0190 - val_accuracy: 0.9979\n",
      "Epoch 11/200\n",
      "754/754 [==============================] - 1s 2ms/step - loss: 0.0072 - accuracy: 0.9990 - val_loss: 0.0184 - val_accuracy: 0.9986\n",
      "Epoch 12/200\n",
      "754/754 [==============================] - 1s 2ms/step - loss: 0.0070 - accuracy: 0.9987 - val_loss: 0.0144 - val_accuracy: 0.9979\n",
      "Epoch 13/200\n",
      "754/754 [==============================] - 1s 2ms/step - loss: 0.0049 - accuracy: 0.9990 - val_loss: 0.0350 - val_accuracy: 0.9986\n",
      "Epoch 00013: early stopping\n"
     ]
    }
   ],
   "source": [
    "model = Sequential()\n",
    "model.add(Dense(17, input_shape=(X.shape[1],), activation='relu'))\n",
    "model.add(Dropout(0.2))\n",
    "model.add(Dense(20, activation='relu'))\n",
    "model.add(Dropout(0.2))\n",
    "model.add(Dense(30, activation='relu'))\n",
    "model.add(Dropout(0.2))\n",
    "model.add(Dense(40, activation='relu'))\n",
    "model.add(Dropout(0.2))\n",
    "model.add(Dense(50, activation='relu'))\n",
    "model.add(Dropout(0.2))\n",
    "model.add(Dense(30, activation='relu'))\n",
    "model.add(Dropout(0.2))\n",
    "model.add(Dense(20, activation='relu'))\n",
    "model.add(Dropout(0.2))\n",
    "model.add(Dense(1, activation='sigmoid'))\n",
    "\n",
    "model.compile(loss='bce', \n",
    "              optimizer='adam', \n",
    "              metrics=['accuracy'])\n",
    "\n",
    "early_stop = EarlyStopping(monitor='val_loss', patience=10, verbose=1)\n",
    "\n",
    "history = model.fit(\n",
    "    X_train_smote,\n",
    "    y_train_smote,\n",
    "    validation_data=(X_test_sc, y_test),\n",
    "    epochs=200,\n",
    "    callbacks=[early_stop]\n",
    ")"
   ]
  },
  {
   "cell_type": "markdown",
   "id": "1d46fc74",
   "metadata": {},
   "source": [
    "#### Analysis \n",
    "\n",
    "Results: loss: 0.0049 - accuracy: 0.9990 - val_loss: 0.0350 - val_accuracy: 0.9986\n",
    "\n",
    "This is still very wrong. There must be a variable giving it away."
   ]
  },
  {
   "cell_type": "markdown",
   "id": "026ae252",
   "metadata": {},
   "source": [
    "# Very sure we have a variable giving this away, as our attempts to balance the dataset have proven ineffective as we are asymptotic to 100%"
   ]
  },
  {
   "cell_type": "markdown",
   "id": "fe686488",
   "metadata": {},
   "source": [
    "---"
   ]
  },
  {
   "cell_type": "markdown",
   "id": "be82606e",
   "metadata": {},
   "source": [
    "# Fix Inaccurate Accuracy"
   ]
  },
  {
   "cell_type": "code",
   "execution_count": 29,
   "id": "06c1ab27",
   "metadata": {},
   "outputs": [],
   "source": [
    "# df.drop(columns= [], inplace=True)"
   ]
  },
  {
   "cell_type": "code",
   "execution_count": null,
   "id": "6b2d1328",
   "metadata": {},
   "outputs": [],
   "source": []
  },
  {
   "cell_type": "code",
   "execution_count": null,
   "id": "8775a7c4",
   "metadata": {},
   "outputs": [],
   "source": []
  },
  {
   "cell_type": "markdown",
   "id": "c7e70854",
   "metadata": {},
   "source": [
    "## GridSearch\n",
    "\n",
    "I modified the code from \"GridSearch with keras\" by Riley Dallas and Adi bronshtein; shown to me by Eric Bayless. It is almost identical."
   ]
  },
  {
   "cell_type": "markdown",
   "id": "e1999ecf",
   "metadata": {},
   "source": [
    "**Note:**\n",
    "\n",
    "Issue with ```early_stop = EarlyStopping(monitor='val_loss', patience=10, verbose=1)```\n",
    "\n",
    "I changed ```val_loss``` for ```loss``` on previous attempts."
   ]
  },
  {
   "cell_type": "code",
   "execution_count": null,
   "id": "3ebd6fe3",
   "metadata": {},
   "outputs": [],
   "source": [
    "# Add an arugment of number of layers to the function (and loop through it) \n",
    "def model_fn_deep(hidden_neurons=32, hidden_layers=5, dropout=0.5):\n",
    "    model=Sequential()\n",
    "    \n",
    "    for layer in range(hidden_layers):\n",
    "        if layer == 0:\n",
    "            model.add(Dense(hidden_neurons, input_shape=(X.shape[1],), activation='relu'))\n",
    "            model.add(Dropout(dropout))\n",
    "        else:\n",
    "            model.add(Dense(hidden_neurons, activation='relu'))\n",
    "            model.add(Dropout(dropout))\n",
    "            \n",
    "    model.add(Dense(1, activation='sigmoid'))\n",
    "    \n",
    "    model.compile(loss='bce', metrics=['acc'], optimizer='adam')\n",
    "    \n",
    "    return model\n",
    "\n",
    "nn_deep = KerasClassifier(build_fn = model_fn_deep, batch_size=32, verbose=0)\n",
    "\n",
    "early_stop = EarlyStopping(monitor='val_loss', patience=10, verbose=1) ######## Can be an issue ##########\n",
    "\n",
    "params_deep = {\n",
    "    'hidden_neurons': [16,32,64,128,256,512,1024],\n",
    "    'hidden_layers': [2,3,4,5,6,7,8,9,10],\n",
    "    'dropout': [0.1,0.2,0.3,0.4,0.5],\n",
    "    'epochs': [10,20,50,100],\n",
    "    'callbacks': [early_stop]\n",
    "}\n",
    "\n",
    "gs_deep = GridSearchCV(nn_deep, param_grid=params_deep, cv=5, n_jobs=-1)\n",
    "\n",
    "gs_deep.fit(X_train_sc, y_train)\n",
    "print(gs_deep.best_score_)\n",
    "gs_deep.best_params_"
   ]
  },
  {
   "cell_type": "code",
   "execution_count": null,
   "id": "d7439fd9",
   "metadata": {},
   "outputs": [],
   "source": []
  },
  {
   "cell_type": "code",
   "execution_count": null,
   "id": "4c0e29d1",
   "metadata": {},
   "outputs": [],
   "source": []
  },
  {
   "cell_type": "code",
   "execution_count": null,
   "id": "7c3b9d54",
   "metadata": {},
   "outputs": [],
   "source": []
  }
 ],
 "metadata": {
  "kernelspec": {
   "display_name": "Python 3",
   "language": "python",
   "name": "python3"
  },
  "language_info": {
   "codemirror_mode": {
    "name": "ipython",
    "version": 3
   },
   "file_extension": ".py",
   "mimetype": "text/x-python",
   "name": "python",
   "nbconvert_exporter": "python",
   "pygments_lexer": "ipython3",
   "version": "3.8.8"
  }
 },
 "nbformat": 4,
 "nbformat_minor": 5
}
