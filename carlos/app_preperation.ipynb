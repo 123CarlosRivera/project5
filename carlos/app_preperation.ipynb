{
 "cells": [
  {
   "cell_type": "markdown",
   "metadata": {},
   "source": [
    "## ```NoteBook Focus```\n",
    "---\n",
    "1. Figure out input and default variables.\n",
    "    - Setting some input to a default setting will make the user interface less crowded.\n",
    "2. Choose and save models that will be used for voting in the app.\n",
    "    - Each model used will have a vote on whether the offender is recieving a prison sentence vs a non prison sentence. The class that recieves the most votes is the class predicted.\n",
    "3. Build a for loop that returns the highest voted class and possibly the probability of our prediction."
   ]
  },
  {
   "cell_type": "markdown",
   "metadata": {},
   "source": [
    "## ```Imports```\n",
    "---"
   ]
  },
  {
   "cell_type": "code",
   "execution_count": 73,
   "metadata": {},
   "outputs": [],
   "source": [
    "import pandas as pd\n",
    "import numpy as np\n",
    "import matplotlib.pyplot as plt\n",
    "from sklearn.preprocessing import StandardScaler\n",
    "from sklearn.model_selection import train_test_split\n",
    "from imblearn.over_sampling import SMOTE\n",
    "from sklearn.metrics import plot_confusion_matrix, confusion_matrix\n",
    "\n",
    "from sklearn.linear_model import LogisticRegression\n",
    "from sklearn.neighbors import KNeighborsClassifier\n",
    "from sklearn.ensemble import RandomForestClassifier, ExtraTreesClassifier, BaggingClassifier\n",
    "from sklearn.tree import DecisionTreeClassifier\n",
    "from classifiers_copy import classify\n",
    "\n",
    "import pickle\n",
    "\n",
    "import warnings\n",
    "warnings.filterwarnings('ignore')"
   ]
  },
  {
   "cell_type": "raw",
   "metadata": {},
   "source": [
    "Features to make default:\n",
    "\n",
    "1. accgdln\n",
    "2. district - we can keep this constant to one district\n",
    "3. intdum - was there intermitten confinement\n",
    "4. methmin - mandatory minimum with manufactoring meth - we can stick to a certain drug\n",
    "5. nodrug - number of drugs - again we can focus on one drug type\n",
    "6. offguide - this will either be drug trafficing or drug possesion\n",
    "\n",
    "7. quarter - we can stick to a particular quarter\n",
    "\n",
    "Features that require inputs:\n",
    "\n",
    "* 1. casetype - misdemeanor or federal etc..\n",
    "* 2. combdrg2 - type of drug involved - we can stick to a specific drug\n",
    "* 3. crimhist - does this person have a history of crime - we can stick to no history vs history\n",
    "4. disposit - Disposition of the defendant's case. \n",
    "5. drugmin - mandatory minimum for offense\n",
    "6. mweight - weight of all drugs in grams\n",
    "7. numdepen - number of dependants the offender has\n",
    "\n",
    "8. sources - indicates strength of crediable sources (1-3 or 5-9) - we can have this accessed by the lawyer to rate how strong the evidence may or may not be. \n",
    "9. statmax - highest number of months of prison for offense\n",
    "10. statmin - mandatory minimum months of prison for offense"
   ]
  },
  {
   "cell_type": "markdown",
   "metadata": {},
   "source": [
    "## ```Choosen Voting Models and Saving Them```\n",
    "---"
   ]
  },
  {
   "cell_type": "code",
   "execution_count": 2,
   "metadata": {},
   "outputs": [
    {
     "data": {
      "text/html": [
       "<div>\n",
       "<style scoped>\n",
       "    .dataframe tbody tr th:only-of-type {\n",
       "        vertical-align: middle;\n",
       "    }\n",
       "\n",
       "    .dataframe tbody tr th {\n",
       "        vertical-align: top;\n",
       "    }\n",
       "\n",
       "    .dataframe thead th {\n",
       "        text-align: right;\n",
       "    }\n",
       "</style>\n",
       "<table border=\"1\" class=\"dataframe\">\n",
       "  <thead>\n",
       "    <tr style=\"text-align: right;\">\n",
       "      <th></th>\n",
       "      <th>accgdln</th>\n",
       "      <th>age</th>\n",
       "      <th>altdum</th>\n",
       "      <th>amttotal</th>\n",
       "      <th>casetype</th>\n",
       "      <th>citwhere</th>\n",
       "      <th>combdrg2</th>\n",
       "      <th>crimhist</th>\n",
       "      <th>disposit</th>\n",
       "      <th>district</th>\n",
       "      <th>...</th>\n",
       "      <th>typemony</th>\n",
       "      <th>typeoths</th>\n",
       "      <th>unit1</th>\n",
       "      <th>mwgt1</th>\n",
       "      <th>wgt1</th>\n",
       "      <th>xcrhissr</th>\n",
       "      <th>xfolsor</th>\n",
       "      <th>xmaxsor</th>\n",
       "      <th>xminsor</th>\n",
       "      <th>sentrnge</th>\n",
       "    </tr>\n",
       "  </thead>\n",
       "  <tbody>\n",
       "    <tr>\n",
       "      <th>0</th>\n",
       "      <td>1.0</td>\n",
       "      <td>20.0</td>\n",
       "      <td>0</td>\n",
       "      <td>0</td>\n",
       "      <td>1.0</td>\n",
       "      <td>211.0</td>\n",
       "      <td>6.0</td>\n",
       "      <td>1.0</td>\n",
       "      <td>1</td>\n",
       "      <td>43</td>\n",
       "      <td>...</td>\n",
       "      <td>1.0</td>\n",
       "      <td>0</td>\n",
       "      <td>1.0</td>\n",
       "      <td>6.356099e+07</td>\n",
       "      <td>85104.433315</td>\n",
       "      <td>1.0</td>\n",
       "      <td>17.0</td>\n",
       "      <td>30.0</td>\n",
       "      <td>24.0</td>\n",
       "      <td>8.0</td>\n",
       "    </tr>\n",
       "    <tr>\n",
       "      <th>1</th>\n",
       "      <td>1.0</td>\n",
       "      <td>64.0</td>\n",
       "      <td>0</td>\n",
       "      <td>0</td>\n",
       "      <td>1.0</td>\n",
       "      <td>211.0</td>\n",
       "      <td>1.0</td>\n",
       "      <td>1.0</td>\n",
       "      <td>1</td>\n",
       "      <td>51</td>\n",
       "      <td>...</td>\n",
       "      <td>1.0</td>\n",
       "      <td>0</td>\n",
       "      <td>1.0</td>\n",
       "      <td>1.193400e+06</td>\n",
       "      <td>5967.000000</td>\n",
       "      <td>3.0</td>\n",
       "      <td>27.0</td>\n",
       "      <td>108.0</td>\n",
       "      <td>87.0</td>\n",
       "      <td>0.0</td>\n",
       "    </tr>\n",
       "  </tbody>\n",
       "</table>\n",
       "<p>2 rows × 64 columns</p>\n",
       "</div>"
      ],
      "text/plain": [
       "   accgdln   age  altdum  amttotal  casetype  citwhere  combdrg2  crimhist  \\\n",
       "0      1.0  20.0       0         0       1.0     211.0       6.0       1.0   \n",
       "1      1.0  64.0       0         0       1.0     211.0       1.0       1.0   \n",
       "\n",
       "   disposit  district  ...  typemony  typeoths  unit1         mwgt1  \\\n",
       "0         1        43  ...       1.0         0    1.0  6.356099e+07   \n",
       "1         1        51  ...       1.0         0    1.0  1.193400e+06   \n",
       "\n",
       "           wgt1  xcrhissr  xfolsor  xmaxsor  xminsor  sentrnge  \n",
       "0  85104.433315       1.0     17.0     30.0     24.0       8.0  \n",
       "1   5967.000000       3.0     27.0    108.0     87.0       0.0  \n",
       "\n",
       "[2 rows x 64 columns]"
      ]
     },
     "execution_count": 2,
     "metadata": {},
     "output_type": "execute_result"
    }
   ],
   "source": [
    "drugs = pd.read_csv('../Claire/data/drugs_2020_simply_imputed.csv')\n",
    "drugs.head(2)"
   ]
  },
  {
   "cell_type": "code",
   "execution_count": 41,
   "metadata": {},
   "outputs": [
    {
     "name": "stdout",
     "output_type": "stream",
     "text": [
      "1    16075\n",
      "0      754\n",
      "Name: prisdum, dtype: int64\n",
      "1    16075\n",
      "0    16075\n",
      "Name: prisdum, dtype: int64\n",
      "train acc: 0.999333481448567\n",
      "test acc: 0.9539657853810264\n"
     ]
    },
    {
     "data": {
      "text/plain": [
       "<sklearn.metrics._plot.confusion_matrix.ConfusionMatrixDisplay at 0x7f9b94eb17f0>"
      ]
     },
     "execution_count": 41,
     "metadata": {},
     "output_type": "execute_result"
    },
    {
     "data": {
      "image/png": "[encoded data removed]",
      "text/plain": [
       "<Figure size 432x288 with 2 Axes>"
      ]
     },
     "metadata": {
      "needs_background": "light"
     },
     "output_type": "display_data"
    }
   ],
   "source": [
    "# set up X/y\n",
    "X = drugs[[ \n",
    "            'accgdln', 'casetype', 'combdrg2', 'crimhist', 'disposit', \n",
    "            'district', 'dsplea', 'intdum', 'methmin', 'mweight','nodrug',\n",
    "            'offguide', 'quarter', 'reas1', 'reas2', 'reas3', 'numdepen',\n",
    "            'sources', 'statmax'\n",
    "         ]]\n",
    "\n",
    "y = drugs['prisdum']\n",
    "print(y.value_counts())\n",
    "\n",
    "# # boost minor class value count\n",
    "smo = SMOTE(random_state=42)\n",
    "X_smo, y_smo = smo.fit_resample(X,y)\n",
    "print(y_smo.value_counts())\n",
    "\n",
    "# set train/test split\n",
    "X_train, X_test, y_train, y_test = train_test_split(X_smo,y_smo,random_state=42, train_size=0.7, stratify=y_smo)\n",
    "\n",
    "# scale data\n",
    "ss = StandardScaler()\n",
    "X_train_ss = ss.fit_transform(X_train)\n",
    "X_test_ss = ss.transform(X_test) \n",
    "\n",
    "# instantiate, train, evaluate\n",
    "dt = DecisionTreeClassifier()\n",
    "dt.fit(X_train_ss,y_train)\n",
    "\n",
    "# evaluate\n",
    "print(f\"train acc: {dt.score(X_train_ss,y_train)}\")\n",
    "print(f\"test acc: {dt.score(X_test_ss,y_test)}\")\n",
    "    \n",
    "plot_confusion_matrix(dt, X_test_ss, y_test, cmap='BuGn', display_labels=['no prison time', 'prison time'])"
   ]
  },
  {
   "cell_type": "code",
   "execution_count": 53,
   "metadata": {},
   "outputs": [
    {
     "name": "stdout",
     "output_type": "stream",
     "text": [
      "1    16075\n",
      "0      754\n",
      "Name: prisdum, dtype: int64\n",
      "1    16075\n",
      "0    16075\n",
      "Name: prisdum, dtype: int64\n",
      "train acc: 1.0\n",
      "test acc: 0.9591498185588387\n"
     ]
    },
    {
     "data": {
      "text/plain": [
       "<sklearn.metrics._plot.confusion_matrix.ConfusionMatrixDisplay at 0x7f9bb19b7790>"
      ]
     },
     "execution_count": 53,
     "metadata": {},
     "output_type": "execute_result"
    },
    {
     "data": {
      "image/png": "[encoded data removed]",
      "text/plain": [
       "<Figure size 432x288 with 2 Axes>"
      ]
     },
     "metadata": {
      "needs_background": "light"
     },
     "output_type": "display_data"
    }
   ],
   "source": [
    "# Model with demogrpahics\n",
    "# set up X/y\n",
    "demographic_columns=['age','newrace', 'monsex', 'monrace', 'neweduc', 'newcnvtn','newcit', 'citwhere']\n",
    "X = drugs[[ \n",
    "            'accgdln', 'casetype', 'combdrg2', 'crimhist', 'disposit', \n",
    "            'district', 'dsplea', 'intdum', 'methmin', 'mweight','nodrug',\n",
    "            'offguide', 'quarter', 'reas1', 'reas2', 'reas3', 'numdepen',\n",
    "            'sources', 'statmax'\n",
    "         ]+demographic_columns]\n",
    "\n",
    "y = drugs['prisdum']\n",
    "print(y.value_counts())\n",
    "\n",
    "# # boost minor class value count\n",
    "smo = SMOTE(random_state=42)\n",
    "X_smo, y_smo = smo.fit_resample(X,y)\n",
    "print(y_smo.value_counts())\n",
    "\n",
    "# set train/test split\n",
    "X_train, X_test, y_train, y_test = train_test_split(X_smo,y_smo,random_state=42, train_size=0.7, stratify=y_smo)\n",
    "\n",
    "# scale data\n",
    "ss = StandardScaler()\n",
    "X_train_ss = ss.fit_transform(X_train)\n",
    "X_test_ss = ss.transform(X_test) \n",
    "\n",
    "# instantiate, train, evaluate\n",
    "dt = DecisionTreeClassifier()\n",
    "dt.fit(X_train_ss,y_train)\n",
    "\n",
    "# evaluate\n",
    "print(f\"train acc: {dt.score(X_train_ss,y_train)}\")\n",
    "print(f\"test acc: {dt.score(X_test_ss,y_test)}\")\n",
    "    \n",
    "plot_confusion_matrix(dt, X_test_ss, y_test, cmap='BuGn', display_labels=['no prison time', 'prison time'])"
   ]
  },
  {
   "cell_type": "code",
   "execution_count": 63,
   "metadata": {},
   "outputs": [
    {
     "data": {
      "text/html": [
       "<div>\n",
       "<style scoped>\n",
       "    .dataframe tbody tr th:only-of-type {\n",
       "        vertical-align: middle;\n",
       "    }\n",
       "\n",
       "    .dataframe tbody tr th {\n",
       "        vertical-align: top;\n",
       "    }\n",
       "\n",
       "    .dataframe thead th {\n",
       "        text-align: right;\n",
       "    }\n",
       "</style>\n",
       "<table border=\"1\" class=\"dataframe\">\n",
       "  <thead>\n",
       "    <tr style=\"text-align: right;\">\n",
       "      <th></th>\n",
       "      <th>Train Acc</th>\n",
       "      <th>Test Acc</th>\n",
       "      <th>Acc-diff</th>\n",
       "      <th>Train-F1</th>\n",
       "      <th>Test-F1</th>\n",
       "      <th>F1-diff</th>\n",
       "      <th>Train-Pres</th>\n",
       "      <th>Test-Pres</th>\n",
       "      <th>Pres-diff</th>\n",
       "      <th>Train_Recall</th>\n",
       "      <th>Test-Recall</th>\n",
       "      <th>Recall_diff</th>\n",
       "    </tr>\n",
       "  </thead>\n",
       "  <tbody>\n",
       "    <tr>\n",
       "      <th>knn</th>\n",
       "      <td>0.942857</td>\n",
       "      <td>0.911457</td>\n",
       "      <td>0.031400</td>\n",
       "      <td>0.941889</td>\n",
       "      <td>0.909572</td>\n",
       "      <td>0.032317</td>\n",
       "      <td>0.958169</td>\n",
       "      <td>0.929251</td>\n",
       "      <td>0.028917</td>\n",
       "      <td>0.926153</td>\n",
       "      <td>0.890709</td>\n",
       "      <td>0.035444</td>\n",
       "    </tr>\n",
       "    <tr>\n",
       "      <th>logreg</th>\n",
       "      <td>0.821995</td>\n",
       "      <td>0.824054</td>\n",
       "      <td>0.002059</td>\n",
       "      <td>0.810250</td>\n",
       "      <td>0.812838</td>\n",
       "      <td>0.002588</td>\n",
       "      <td>0.867532</td>\n",
       "      <td>0.868080</td>\n",
       "      <td>0.000548</td>\n",
       "      <td>0.760064</td>\n",
       "      <td>0.764206</td>\n",
       "      <td>0.004142</td>\n",
       "    </tr>\n",
       "    <tr>\n",
       "      <th>dt</th>\n",
       "      <td>0.998978</td>\n",
       "      <td>0.957076</td>\n",
       "      <td>0.041902</td>\n",
       "      <td>0.998977</td>\n",
       "      <td>0.956749</td>\n",
       "      <td>0.042228</td>\n",
       "      <td>0.999733</td>\n",
       "      <td>0.964000</td>\n",
       "      <td>0.035733</td>\n",
       "      <td>0.998223</td>\n",
       "      <td>0.949606</td>\n",
       "      <td>0.048617</td>\n",
       "    </tr>\n",
       "    <tr>\n",
       "      <th>bag</th>\n",
       "      <td>0.997023</td>\n",
       "      <td>0.966822</td>\n",
       "      <td>0.030201</td>\n",
       "      <td>0.997020</td>\n",
       "      <td>0.966562</td>\n",
       "      <td>0.030458</td>\n",
       "      <td>0.998130</td>\n",
       "      <td>0.974094</td>\n",
       "      <td>0.024035</td>\n",
       "      <td>0.995912</td>\n",
       "      <td>0.959146</td>\n",
       "      <td>0.036767</td>\n",
       "    </tr>\n",
       "    <tr>\n",
       "      <th>bag_knn</th>\n",
       "      <td>0.945123</td>\n",
       "      <td>0.913116</td>\n",
       "      <td>0.032008</td>\n",
       "      <td>0.944181</td>\n",
       "      <td>0.911097</td>\n",
       "      <td>0.033084</td>\n",
       "      <td>0.960725</td>\n",
       "      <td>0.932667</td>\n",
       "      <td>0.028058</td>\n",
       "      <td>0.928197</td>\n",
       "      <td>0.890502</td>\n",
       "      <td>0.037695</td>\n",
       "    </tr>\n",
       "    <tr>\n",
       "      <th>bag_log</th>\n",
       "      <td>0.821462</td>\n",
       "      <td>0.824054</td>\n",
       "      <td>0.002592</td>\n",
       "      <td>0.809592</td>\n",
       "      <td>0.812590</td>\n",
       "      <td>0.002998</td>\n",
       "      <td>0.867296</td>\n",
       "      <td>0.869124</td>\n",
       "      <td>0.001827</td>\n",
       "      <td>0.759086</td>\n",
       "      <td>0.762961</td>\n",
       "      <td>0.003875</td>\n",
       "    </tr>\n",
       "    <tr>\n",
       "      <th>rf</th>\n",
       "      <td>0.998978</td>\n",
       "      <td>0.978434</td>\n",
       "      <td>0.020544</td>\n",
       "      <td>0.998978</td>\n",
       "      <td>0.978446</td>\n",
       "      <td>0.020532</td>\n",
       "      <td>0.999200</td>\n",
       "      <td>0.977838</td>\n",
       "      <td>0.021362</td>\n",
       "      <td>0.998756</td>\n",
       "      <td>0.979054</td>\n",
       "      <td>0.019702</td>\n",
       "    </tr>\n",
       "    <tr>\n",
       "      <th>et</th>\n",
       "      <td>0.998978</td>\n",
       "      <td>0.975739</td>\n",
       "      <td>0.023239</td>\n",
       "      <td>0.998977</td>\n",
       "      <td>0.975615</td>\n",
       "      <td>0.023362</td>\n",
       "      <td>0.999733</td>\n",
       "      <td>0.980519</td>\n",
       "      <td>0.019214</td>\n",
       "      <td>0.998223</td>\n",
       "      <td>0.970759</td>\n",
       "      <td>0.027464</td>\n",
       "    </tr>\n",
       "    <tr>\n",
       "      <th>ada</th>\n",
       "      <td>0.934770</td>\n",
       "      <td>0.937377</td>\n",
       "      <td>0.002607</td>\n",
       "      <td>0.934417</td>\n",
       "      <td>0.937031</td>\n",
       "      <td>0.002613</td>\n",
       "      <td>0.939538</td>\n",
       "      <td>0.942138</td>\n",
       "      <td>0.002600</td>\n",
       "      <td>0.929352</td>\n",
       "      <td>0.931978</td>\n",
       "      <td>0.002626</td>\n",
       "    </tr>\n",
       "    <tr>\n",
       "      <th>gboost</th>\n",
       "      <td>0.956676</td>\n",
       "      <td>0.957802</td>\n",
       "      <td>0.001126</td>\n",
       "      <td>0.956684</td>\n",
       "      <td>0.957609</td>\n",
       "      <td>0.000925</td>\n",
       "      <td>0.956557</td>\n",
       "      <td>0.961917</td>\n",
       "      <td>0.005360</td>\n",
       "      <td>0.956812</td>\n",
       "      <td>0.953339</td>\n",
       "      <td>0.003473</td>\n",
       "    </tr>\n",
       "    <tr>\n",
       "      <th>svc</th>\n",
       "      <td>0.875628</td>\n",
       "      <td>0.874546</td>\n",
       "      <td>0.001081</td>\n",
       "      <td>0.869089</td>\n",
       "      <td>0.867731</td>\n",
       "      <td>0.001359</td>\n",
       "      <td>0.917358</td>\n",
       "      <td>0.917476</td>\n",
       "      <td>0.000118</td>\n",
       "      <td>0.825646</td>\n",
       "      <td>0.823102</td>\n",
       "      <td>0.002544</td>\n",
       "    </tr>\n",
       "  </tbody>\n",
       "</table>\n",
       "</div>"
      ],
      "text/plain": [
       "         Train Acc  Test Acc  Acc-diff  Train-F1   Test-F1   F1-diff  \\\n",
       "knn       0.942857  0.911457  0.031400  0.941889  0.909572  0.032317   \n",
       "logreg    0.821995  0.824054  0.002059  0.810250  0.812838  0.002588   \n",
       "dt        0.998978  0.957076  0.041902  0.998977  0.956749  0.042228   \n",
       "bag       0.997023  0.966822  0.030201  0.997020  0.966562  0.030458   \n",
       "bag_knn   0.945123  0.913116  0.032008  0.944181  0.911097  0.033084   \n",
       "bag_log   0.821462  0.824054  0.002592  0.809592  0.812590  0.002998   \n",
       "rf        0.998978  0.978434  0.020544  0.998978  0.978446  0.020532   \n",
       "et        0.998978  0.975739  0.023239  0.998977  0.975615  0.023362   \n",
       "ada       0.934770  0.937377  0.002607  0.934417  0.937031  0.002613   \n",
       "gboost    0.956676  0.957802  0.001126  0.956684  0.957609  0.000925   \n",
       "svc       0.875628  0.874546  0.001081  0.869089  0.867731  0.001359   \n",
       "\n",
       "         Train-Pres  Test-Pres  Pres-diff  Train_Recall  Test-Recall  \\\n",
       "knn        0.958169   0.929251   0.028917      0.926153     0.890709   \n",
       "logreg     0.867532   0.868080   0.000548      0.760064     0.764206   \n",
       "dt         0.999733   0.964000   0.035733      0.998223     0.949606   \n",
       "bag        0.998130   0.974094   0.024035      0.995912     0.959146   \n",
       "bag_knn    0.960725   0.932667   0.028058      0.928197     0.890502   \n",
       "bag_log    0.867296   0.869124   0.001827      0.759086     0.762961   \n",
       "rf         0.999200   0.977838   0.021362      0.998756     0.979054   \n",
       "et         0.999733   0.980519   0.019214      0.998223     0.970759   \n",
       "ada        0.939538   0.942138   0.002600      0.929352     0.931978   \n",
       "gboost     0.956557   0.961917   0.005360      0.956812     0.953339   \n",
       "svc        0.917358   0.917476   0.000118      0.825646     0.823102   \n",
       "\n",
       "         Recall_diff  \n",
       "knn         0.035444  \n",
       "logreg      0.004142  \n",
       "dt          0.048617  \n",
       "bag         0.036767  \n",
       "bag_knn     0.037695  \n",
       "bag_log     0.003875  \n",
       "rf          0.019702  \n",
       "et          0.027464  \n",
       "ada         0.002626  \n",
       "gboost      0.003473  \n",
       "svc         0.002544  "
      ]
     },
     "execution_count": 63,
     "metadata": {},
     "output_type": "execute_result"
    }
   ],
   "source": [
    "classify(X_train_ss, X_test_ss, y_train, y_test)"
   ]
  },
  {
   "cell_type": "code",
   "execution_count": 52,
   "metadata": {},
   "outputs": [
    {
     "data": {
      "text/html": [
       "<div>\n",
       "<style scoped>\n",
       "    .dataframe tbody tr th:only-of-type {\n",
       "        vertical-align: middle;\n",
       "    }\n",
       "\n",
       "    .dataframe tbody tr th {\n",
       "        vertical-align: top;\n",
       "    }\n",
       "\n",
       "    .dataframe thead th {\n",
       "        text-align: right;\n",
       "    }\n",
       "</style>\n",
       "<table border=\"1\" class=\"dataframe\">\n",
       "  <thead>\n",
       "    <tr style=\"text-align: right;\">\n",
       "      <th></th>\n",
       "      <th>mweight</th>\n",
       "      <th>offguide</th>\n",
       "      <th>prisdum</th>\n",
       "      <th>statmin</th>\n",
       "    </tr>\n",
       "  </thead>\n",
       "  <tbody>\n",
       "    <tr>\n",
       "      <th>4493</th>\n",
       "      <td>12950.0</td>\n",
       "      <td>9</td>\n",
       "      <td>1</td>\n",
       "      <td>0.0</td>\n",
       "    </tr>\n",
       "    <tr>\n",
       "      <th>10247</th>\n",
       "      <td>8927.5</td>\n",
       "      <td>9</td>\n",
       "      <td>1</td>\n",
       "      <td>0.0</td>\n",
       "    </tr>\n",
       "  </tbody>\n",
       "</table>\n",
       "</div>"
      ],
      "text/plain": [
       "       mweight  offguide  prisdum  statmin\n",
       "4493   12950.0         9        1      0.0\n",
       "10247   8927.5         9        1      0.0"
      ]
     },
     "execution_count": 52,
     "metadata": {},
     "output_type": "execute_result"
    }
   ],
   "source": [
    "drugs[(drugs['mweight']<22_000) & (drugs['offguide']==9) & (drugs['prisdum']==1) & (drugs['district']==1)][['mweight','offguide','prisdum','statmin']]"
   ]
  },
  {
   "cell_type": "markdown",
   "metadata": {},
   "source": [
    "**I wanted to see how many people in 2020 were convicted and given a prison sentence while having less than the legal limit of 50 pounds. We can see there have only been 2 prison sentences.**"
   ]
  },
  {
   "cell_type": "code",
   "execution_count": 72,
   "metadata": {},
   "outputs": [
    {
     "data": {
      "image/png": "[encoded data removed]",
      "text/plain": [
       "<Figure size 1080x360 with 1 Axes>"
      ]
     },
     "metadata": {
      "needs_background": "light"
     },
     "output_type": "display_data"
    }
   ],
   "source": [
    "pd.DataFrame(dt.feature_importances_,X.columns, columns=['importance']).sort_values(by='importance', ascending=False).sort_values(by='importance', ascending=False).plot(kind='barh',figsize=(15,5), color='green')\n",
    "plt.title('Decision Tree Feature Importance');"
   ]
  },
  {
   "cell_type": "markdown",
   "metadata": {},
   "source": [
    "**When we run the model with demographic information, demographic features rank high on feature importance.**"
   ]
  },
  {
   "cell_type": "markdown",
   "metadata": {},
   "source": [
    "## ```Training and Pickling Voting Models```\n",
    "---"
   ]
  },
  {
   "cell_type": "code",
   "execution_count": 42,
   "metadata": {},
   "outputs": [],
   "source": [
    "# Knn model for app\n",
    "knn = KNeighborsClassifier()\n",
    "knn.fit(X_train_ss,y_train)\n",
    "\n",
    "with open('../carlos/app_models/knn.pkl', mode = 'wb') as pickle_out:\n",
    "    pickle_out = pickle.dump(knn, pickle_out)"
   ]
  },
  {
   "cell_type": "code",
   "execution_count": 43,
   "metadata": {},
   "outputs": [],
   "source": [
    "# Dt model for app\n",
    "dt = DecisionTreeClassifier()\n",
    "dt.fit(X_train_ss,y_train)\n",
    "\n",
    "with open('../carlos/app_models/dt.pkl', mode = 'wb') as pickle_out:\n",
    "    pickle_out = pickle.dump(dt, pickle_out)"
   ]
  },
  {
   "cell_type": "code",
   "execution_count": 45,
   "metadata": {},
   "outputs": [],
   "source": [
    "# Rf model for app\n",
    "rf = RandomForestClassifier()\n",
    "rf.fit(X_train_ss,y_train)\n",
    "\n",
    "with open('../carlos/app_models/rf.pkl', mode = 'wb') as pickle_out:\n",
    "    pickle_out = pickle.dump(rf, pickle_out)"
   ]
  },
  {
   "cell_type": "code",
   "execution_count": 46,
   "metadata": {},
   "outputs": [],
   "source": [
    "# Bagging model for app\n",
    "bag = BaggingClassifier()\n",
    "bag.fit(X_train_ss,y_train)\n",
    "\n",
    "with open('../carlos/app_models/bag.pkl', mode = 'wb') as pickle_out:\n",
    "    pickle_out = pickle.dump(bag, pickle_out)"
   ]
  },
  {
   "cell_type": "code",
   "execution_count": 47,
   "metadata": {},
   "outputs": [],
   "source": [
    "# Extra Trees model for app\n",
    "et = ExtraTreesClassifier()\n",
    "et.fit(X_train_ss,y_train)\n",
    "\n",
    "with open('../carlos/app_models/et.pkl', mode = 'wb') as pickle_out:\n",
    "    pickle_out = pickle.dump(et, pickle_out)"
   ]
  },
  {
   "cell_type": "markdown",
   "metadata": {},
   "source": [
    "## ```Function that takes all model votes and outputs the classification```\n",
    "---"
   ]
  },
  {
   "cell_type": "code",
   "execution_count": 75,
   "metadata": {},
   "outputs": [
    {
     "name": "stdout",
     "output_type": "stream",
     "text": [
      "100.0% chance of receiving a prison sentence after conviction.\n"
     ]
    }
   ],
   "source": [
    "knn_vote = 0\n",
    "dt_vote = 1\n",
    "et_vote = 0\n",
    "rf_vote = 1\n",
    "bag_vote = 1\n",
    "\n",
    "model_votes = [knn_vote,dt_vote,et_vote,rf_vote,bag_vote]\n",
    "vote_1 = 0\n",
    "for vote in model_votes:\n",
    "    if vote == 1:\n",
    "        vote_1+=1\n",
    "    else:\n",
    "        pass\n",
    "    \n",
    "if vote_1>=3:\n",
    "    print(f\"{dt.predict_proba(X)[0][0]*100}% chance of receiving a prison sentence after conviction.\")\n",
    "else:\n",
    "    print(f\"{dt.predict_proba(X)[0][1]*100}% chance of receiving a non-prison sentence after conviction!\")\n"
   ]
  },
  {
   "cell_type": "markdown",
   "metadata": {},
   "source": [
    "**The voting system works similar to the one we see above where each classifier predicts what the classification will be based on the provided input. If the majority vote is no prison sentence than that is what the lawyer uses to make decision on how to prioritize certain cases.**"
   ]
  }
 ],
 "metadata": {
  "kernelspec": {
   "display_name": "Python 3",
   "language": "python",
   "name": "python3"
  },
  "language_info": {
   "codemirror_mode": {
    "name": "ipython",
    "version": 3
   },
   "file_extension": ".py",
   "mimetype": "text/x-python",
   "name": "python",
   "nbconvert_exporter": "python",
   "pygments_lexer": "ipython3",
   "version": "3.8.5"
  }
 },
 "nbformat": 4,
 "nbformat_minor": 4
}
