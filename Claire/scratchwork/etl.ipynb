{
 "cells": [
  {
   "cell_type": "code",
   "execution_count": 1,
   "id": "240a8fe8-1f81-4fe6-ad69-8abb1369e209",
   "metadata": {},
   "outputs": [],
   "source": [
    "import numpy as np\n",
    "import pandas as pd\n",
    "\n",
    "import warnings\n",
    "warnings.filterwarnings('ignore')"
   ]
  },
  {
   "cell_type": "code",
   "execution_count": 8,
   "id": "b865d12a-524c-42b2-a734-e9befab662fe",
   "metadata": {},
   "outputs": [],
   "source": [
    "def mm_impute(df, mode_cols, mean_cols):\n",
    "    for col in df.columns:\n",
    "        if col in mode_cols:\n",
    "            mode = df[col].value_counts().index[0]\n",
    "            if not mode:\n",
    "                mode = df[col].value_counts().index[1]\n",
    "            df[col] = df[col].fillna(value = mode)\n",
    "        elif col in mean_cols:\n",
    "            df[col] = df[col].fillna(value = df[col].mean())\n",
    "    return df"
   ]
  },
  {
   "cell_type": "code",
   "execution_count": 9,
   "id": "0177c697-c1e2-4292-aa8c-15bfa80bd495",
   "metadata": {},
   "outputs": [],
   "source": [
    "numeric_cols = ['AGE', 'AMTTOTAL', 'DRUGMIN', 'METHMIN', 'MWEIGHT', 'NODRUG',\n",
    "               'NUMDEPEN', 'PROBATN', 'REGEXMIN', 'RELMIN', 'SENSPCAP', 'SENSPLT0',\n",
    "               'SMAX1', 'SMIN1', 'STATMAX', 'STATMIN', 'SUPERMAX', 'SUPERMIN', 'SUPREL',\n",
    "                'TIMESERVC', 'TOTCHPTS', 'TOTREST', 'TOTUNIT','MWGT1', 'WGT1', 'XFOLSOR',\n",
    "                'XMAXSOR', 'XMINSOR'\n",
    "               ]\n",
    "\n",
    "categorical_cols = ['ACCGDLN', 'ALTDUM', 'CASETYPE', 'CITWHERE', 'COMBDRG2', 'CRIMHIST', \n",
    "                   'DISPOSIT', 'DISTRICT', 'DSPLEA', 'EDUCATN', 'INTDUM', 'MONRACE',\n",
    "                   'MONSEX', 'NEWCIT', 'NEWCNVTN', 'NEWEDUC', 'NEWRACE', 'OFFGUIDE', \n",
    "                   'PRISDUM', 'PROBDUM', 'QUARTER', 'REAS1', 'REAS2', 'REAS3', 'RESTDET1',\n",
    "                   'RESTDUM', 'SAFE', 'SAFETY', 'SENTIMP', 'SOURCES', 'SUPRDUM', 'TYPEMONY',\n",
    "                    'TYPEOTHS', 'UNIT1', 'XCRHISSR', 'SENTRNGE'\n",
    "                   ]\n",
    "\n",
    "features = numeric_cols + categorical_cols"
   ]
  },
  {
   "cell_type": "code",
   "execution_count": 4,
   "id": "c76b360d-477e-4515-adf3-c8268a497831",
   "metadata": {},
   "outputs": [
    {
     "name": "stdin",
     "output_type": "stream",
     "text": [
      "Path of file to be cleaned: ~/Desktop/opafy20nid.csv\n"
     ]
    }
   ],
   "source": [
    "input_path = input(\"Path of file to be cleaned:\")"
   ]
  },
  {
   "cell_type": "code",
   "execution_count": 5,
   "id": "4fdb4aa6-d8f5-40bc-8429-5d1c89f39b6e",
   "metadata": {},
   "outputs": [
    {
     "name": "stdin",
     "output_type": "stream",
     "text": [
      "Filepath of the cleaned file: data/test.csv\n"
     ]
    }
   ],
   "source": [
    "output_path = input('Filepath of the cleaned file:')"
   ]
  },
  {
   "cell_type": "code",
   "execution_count": 7,
   "id": "06fca511-878b-43c7-bf10-cc329aaa9f64",
   "metadata": {},
   "outputs": [
    {
     "name": "stdout",
     "output_type": "stream",
     "text": [
      "read in\n"
     ]
    }
   ],
   "source": [
    "df = pd.read_csv(input_path)\n",
    "print('read in')"
   ]
  },
  {
   "cell_type": "code",
   "execution_count": 10,
   "id": "11f73217-c802-4347-925f-8d5dfc3fc752",
   "metadata": {},
   "outputs": [
    {
     "name": "stdout",
     "output_type": "stream",
     "text": [
      "cleaned\n"
     ]
    }
   ],
   "source": [
    "df_new = pd.DataFrame()\n",
    "for col in features:\n",
    "    try:\n",
    "        df_new[col] = df[col]\n",
    "    except:\n",
    "        pass\n",
    "df = df_new[(df_new['OFFGUIDE'] == 9) | (df_new['OFFGUIDE'] == 10)]\n",
    "df = mm_impute(df, categorical_cols, numeric_cols)\n",
    "df = df[df.columns[df.isnull().sum() < 10000]]\n",
    "print('cleaned')"
   ]
  },
  {
   "cell_type": "code",
   "execution_count": 11,
   "id": "6d449911-bd10-4894-b4cd-57878d49fc09",
   "metadata": {},
   "outputs": [],
   "source": [
    "df.to_csv(output_path, index = False)"
   ]
  },
  {
   "cell_type": "code",
   "execution_count": null,
   "id": "8c8b6cdf-32ff-49cf-87f2-dcde20fb7d2b",
   "metadata": {},
   "outputs": [],
   "source": []
  }
 ],
 "metadata": {
  "kernelspec": {
   "display_name": "Python 3",
   "language": "python",
   "name": "python3"
  },
  "language_info": {
   "codemirror_mode": {
    "name": "ipython",
    "version": 3
   },
   "file_extension": ".py",
   "mimetype": "text/x-python",
   "name": "python",
   "nbconvert_exporter": "python",
   "pygments_lexer": "ipython3",
   "version": "3.8.8"
  }
 },
 "nbformat": 4,
 "nbformat_minor": 5
}
