{
 "cells": [
  {
   "cell_type": "code",
   "execution_count": 1,
   "id": "e25ac184-6814-4fc0-9270-ec658dcc8747",
   "metadata": {},
   "outputs": [],
   "source": [
    "import numpy as np\n",
    "import pandas as pd\n",
    "import seaborn as sns\n",
    "\n",
    "import matplotlib.pyplot as plt\n",
    "%matplotlib inline"
   ]
  },
  {
   "cell_type": "code",
   "execution_count": 2,
   "id": "84bc5924-6c5f-4711-8234-bae461bc78cf",
   "metadata": {},
   "outputs": [],
   "source": [
    "df = pd.read_csv('data/drugs_2020_simply_imputed.csv')"
   ]
  },
  {
   "cell_type": "code",
   "execution_count": 3,
   "id": "dc5be1cb-d622-4c58-ba94-bfb8af458433",
   "metadata": {},
   "outputs": [
    {
     "data": {
      "text/html": [
       "<div>\n",
       "<style scoped>\n",
       "    .dataframe tbody tr th:only-of-type {\n",
       "        vertical-align: middle;\n",
       "    }\n",
       "\n",
       "    .dataframe tbody tr th {\n",
       "        vertical-align: top;\n",
       "    }\n",
       "\n",
       "    .dataframe thead th {\n",
       "        text-align: right;\n",
       "    }\n",
       "</style>\n",
       "<table border=\"1\" class=\"dataframe\">\n",
       "  <thead>\n",
       "    <tr style=\"text-align: right;\">\n",
       "      <th></th>\n",
       "      <th>accgdln</th>\n",
       "      <th>age</th>\n",
       "      <th>altdum</th>\n",
       "      <th>amttotal</th>\n",
       "      <th>casetype</th>\n",
       "      <th>citwhere</th>\n",
       "      <th>combdrg2</th>\n",
       "      <th>crimhist</th>\n",
       "      <th>disposit</th>\n",
       "      <th>district</th>\n",
       "      <th>...</th>\n",
       "      <th>typemony</th>\n",
       "      <th>typeoths</th>\n",
       "      <th>unit1</th>\n",
       "      <th>mwgt1</th>\n",
       "      <th>wgt1</th>\n",
       "      <th>xcrhissr</th>\n",
       "      <th>xfolsor</th>\n",
       "      <th>xmaxsor</th>\n",
       "      <th>xminsor</th>\n",
       "      <th>sentrnge</th>\n",
       "    </tr>\n",
       "  </thead>\n",
       "  <tbody>\n",
       "    <tr>\n",
       "      <th>0</th>\n",
       "      <td>1.0</td>\n",
       "      <td>20.0</td>\n",
       "      <td>0</td>\n",
       "      <td>0</td>\n",
       "      <td>1.0</td>\n",
       "      <td>211.0</td>\n",
       "      <td>6.0</td>\n",
       "      <td>1.0</td>\n",
       "      <td>1</td>\n",
       "      <td>43</td>\n",
       "      <td>...</td>\n",
       "      <td>1.0</td>\n",
       "      <td>0</td>\n",
       "      <td>1.0</td>\n",
       "      <td>6.356099e+07</td>\n",
       "      <td>85104.433315</td>\n",
       "      <td>1.0</td>\n",
       "      <td>17.0</td>\n",
       "      <td>30.0</td>\n",
       "      <td>24.0</td>\n",
       "      <td>8.0</td>\n",
       "    </tr>\n",
       "    <tr>\n",
       "      <th>1</th>\n",
       "      <td>1.0</td>\n",
       "      <td>64.0</td>\n",
       "      <td>0</td>\n",
       "      <td>0</td>\n",
       "      <td>1.0</td>\n",
       "      <td>211.0</td>\n",
       "      <td>1.0</td>\n",
       "      <td>1.0</td>\n",
       "      <td>1</td>\n",
       "      <td>51</td>\n",
       "      <td>...</td>\n",
       "      <td>1.0</td>\n",
       "      <td>0</td>\n",
       "      <td>1.0</td>\n",
       "      <td>1.193400e+06</td>\n",
       "      <td>5967.000000</td>\n",
       "      <td>3.0</td>\n",
       "      <td>27.0</td>\n",
       "      <td>108.0</td>\n",
       "      <td>87.0</td>\n",
       "      <td>0.0</td>\n",
       "    </tr>\n",
       "    <tr>\n",
       "      <th>2</th>\n",
       "      <td>1.0</td>\n",
       "      <td>28.0</td>\n",
       "      <td>0</td>\n",
       "      <td>0</td>\n",
       "      <td>1.0</td>\n",
       "      <td>211.0</td>\n",
       "      <td>3.0</td>\n",
       "      <td>1.0</td>\n",
       "      <td>1</td>\n",
       "      <td>48</td>\n",
       "      <td>...</td>\n",
       "      <td>1.0</td>\n",
       "      <td>0</td>\n",
       "      <td>2.0</td>\n",
       "      <td>2.000000e+06</td>\n",
       "      <td>2000.000000</td>\n",
       "      <td>6.0</td>\n",
       "      <td>27.0</td>\n",
       "      <td>162.0</td>\n",
       "      <td>130.0</td>\n",
       "      <td>2.0</td>\n",
       "    </tr>\n",
       "    <tr>\n",
       "      <th>3</th>\n",
       "      <td>2.0</td>\n",
       "      <td>55.0</td>\n",
       "      <td>0</td>\n",
       "      <td>0</td>\n",
       "      <td>1.0</td>\n",
       "      <td>211.0</td>\n",
       "      <td>77.0</td>\n",
       "      <td>1.0</td>\n",
       "      <td>1</td>\n",
       "      <td>65</td>\n",
       "      <td>...</td>\n",
       "      <td>1.0</td>\n",
       "      <td>0</td>\n",
       "      <td>1.0</td>\n",
       "      <td>1.030000e+04</td>\n",
       "      <td>4.120000</td>\n",
       "      <td>5.0</td>\n",
       "      <td>13.0</td>\n",
       "      <td>37.0</td>\n",
       "      <td>30.0</td>\n",
       "      <td>0.0</td>\n",
       "    </tr>\n",
       "    <tr>\n",
       "      <th>4</th>\n",
       "      <td>1.0</td>\n",
       "      <td>30.0</td>\n",
       "      <td>0</td>\n",
       "      <td>0</td>\n",
       "      <td>1.0</td>\n",
       "      <td>211.0</td>\n",
       "      <td>6.0</td>\n",
       "      <td>1.0</td>\n",
       "      <td>1</td>\n",
       "      <td>87</td>\n",
       "      <td>...</td>\n",
       "      <td>1.0</td>\n",
       "      <td>0</td>\n",
       "      <td>1.0</td>\n",
       "      <td>1.692000e+05</td>\n",
       "      <td>84.600000</td>\n",
       "      <td>6.0</td>\n",
       "      <td>25.0</td>\n",
       "      <td>137.0</td>\n",
       "      <td>110.0</td>\n",
       "      <td>2.0</td>\n",
       "    </tr>\n",
       "  </tbody>\n",
       "</table>\n",
       "<p>5 rows × 64 columns</p>\n",
       "</div>"
      ],
      "text/plain": [
       "   accgdln   age  altdum  amttotal  casetype  citwhere  combdrg2  crimhist  \\\n",
       "0      1.0  20.0       0         0       1.0     211.0       6.0       1.0   \n",
       "1      1.0  64.0       0         0       1.0     211.0       1.0       1.0   \n",
       "2      1.0  28.0       0         0       1.0     211.0       3.0       1.0   \n",
       "3      2.0  55.0       0         0       1.0     211.0      77.0       1.0   \n",
       "4      1.0  30.0       0         0       1.0     211.0       6.0       1.0   \n",
       "\n",
       "   disposit  district  ...  typemony  typeoths  unit1         mwgt1  \\\n",
       "0         1        43  ...       1.0         0    1.0  6.356099e+07   \n",
       "1         1        51  ...       1.0         0    1.0  1.193400e+06   \n",
       "2         1        48  ...       1.0         0    2.0  2.000000e+06   \n",
       "3         1        65  ...       1.0         0    1.0  1.030000e+04   \n",
       "4         1        87  ...       1.0         0    1.0  1.692000e+05   \n",
       "\n",
       "           wgt1  xcrhissr  xfolsor  xmaxsor  xminsor  sentrnge  \n",
       "0  85104.433315       1.0     17.0     30.0     24.0       8.0  \n",
       "1   5967.000000       3.0     27.0    108.0     87.0       0.0  \n",
       "2   2000.000000       6.0     27.0    162.0    130.0       2.0  \n",
       "3      4.120000       5.0     13.0     37.0     30.0       0.0  \n",
       "4     84.600000       6.0     25.0    137.0    110.0       2.0  \n",
       "\n",
       "[5 rows x 64 columns]"
      ]
     },
     "execution_count": 3,
     "metadata": {},
     "output_type": "execute_result"
    }
   ],
   "source": [
    "df.head()"
   ]
  },
  {
   "cell_type": "code",
   "execution_count": 4,
   "id": "bbe30194-9075-4a2b-8e5f-e92f455a6626",
   "metadata": {},
   "outputs": [
    {
     "data": {
      "text/plain": [
       "Index(['accgdln', 'age', 'altdum', 'amttotal', 'casetype', 'citwhere',\n",
       "       'combdrg2', 'crimhist', 'disposit', 'district', 'drugmin', 'dsplea',\n",
       "       'educatn', 'intdum', 'methmin', 'monrace', 'monsex', 'mweight',\n",
       "       'newcit', 'newcnvtn', 'neweduc', 'newrace', 'nodrug', 'numdepen',\n",
       "       'offguide', 'prisdum', 'probatn', 'probdum', 'quarter', 'reas1',\n",
       "       'reas2', 'reas3', 'regsxmin', 'relmin', 'restdet1', 'restdum', 'safe',\n",
       "       'safety', 'senspcap', 'sensplt0', 'sentimp', 'smax1', 'smin1',\n",
       "       'sources', 'statmax', 'statmin', 'supermax', 'supermin', 'suprdum',\n",
       "       'suprel', 'timservc', 'totchpts', 'totrest', 'totunit', 'typemony',\n",
       "       'typeoths', 'unit1', 'mwgt1', 'wgt1', 'xcrhissr', 'xfolsor', 'xmaxsor',\n",
       "       'xminsor', 'sentrnge'],\n",
       "      dtype='object')"
      ]
     },
     "execution_count": 4,
     "metadata": {},
     "output_type": "execute_result"
    }
   ],
   "source": [
    "df.columns"
   ]
  },
  {
   "cell_type": "code",
   "execution_count": 5,
   "id": "864b7943-bf6b-417c-9294-6864fcbabd7b",
   "metadata": {},
   "outputs": [
    {
     "data": {
      "image/png": "[encoded data removed]",
      "text/plain": [
       "<Figure size 432x288 with 2 Axes>"
      ]
     },
     "metadata": {
      "needs_background": "light"
     },
     "output_type": "display_data"
    }
   ],
   "source": [
    "sns.heatmap(df.corr(),  vmin = -1, vmax = 1, cmap = 'rainbow');"
   ]
  },
  {
   "cell_type": "code",
   "execution_count": 6,
   "id": "3a03c92a-abc0-4655-b5f0-9261393fbd88",
   "metadata": {},
   "outputs": [
    {
     "data": {
      "image/png": "[encoded data removed]",
      "text/plain": [
       "<Figure size 432x288 with 2 Axes>"
      ]
     },
     "metadata": {
      "needs_background": "light"
     },
     "output_type": "display_data"
    },
    {
     "data": {
      "text/plain": [
       "<Figure size 2160x1080 with 0 Axes>"
      ]
     },
     "metadata": {},
     "output_type": "display_data"
    }
   ],
   "source": [
    "sns.heatmap(df.corr()[['prisdum']], vmin = -1, vmax = 1, cmap = 'rainbow');\n",
    "plt.figure(figsize = (30, 15));"
   ]
  },
  {
   "cell_type": "markdown",
   "id": "6c048e58-f076-4a90-9112-927592d54473",
   "metadata": {},
   "source": [
    "At a glance, it seems as though we have a few \"hotspots\" of internally correlated features and features that are highly correlated with our target."
   ]
  },
  {
   "cell_type": "code",
   "execution_count": 7,
   "id": "c05a2438-f28f-4788-9a42-062acbace6ad",
   "metadata": {},
   "outputs": [],
   "source": [
    "# Features highly correlated with our target:\n",
    "target_corr_feats = [feat for feat in df.columns if abs(df.corr().loc['prisdum', feat]) >= 0.5]"
   ]
  },
  {
   "cell_type": "code",
   "execution_count": 8,
   "id": "95aaa0d1-6348-4046-822b-f1a1d4371577",
   "metadata": {},
   "outputs": [
    {
     "data": {
      "text/plain": [
       "['prisdum', 'probatn', 'probdum', 'sentimp', 'suprdum']"
      ]
     },
     "execution_count": 8,
     "metadata": {},
     "output_type": "execute_result"
    }
   ],
   "source": [
    "target_corr_feats"
   ]
  },
  {
   "cell_type": "code",
   "execution_count": 9,
   "id": "08f9c703-3c90-4ba9-9c2e-26e3d24dacd2",
   "metadata": {},
   "outputs": [],
   "source": [
    "int_corr_feats = {feat:[feature for feature in df.columns if abs(df.corr().loc[feat, feature]) >= 0.5]\n",
    "                 for feat in df.columns}"
   ]
  },
  {
   "cell_type": "code",
   "execution_count": 10,
   "id": "4e63cb8c-e9b6-4c0d-affe-ae7deca199db",
   "metadata": {},
   "outputs": [
    {
     "data": {
      "text/plain": [
       "{'accgdln': ['accgdln', 'casetype', 'offguide', 'sources'],\n",
       " 'age': ['age'],\n",
       " 'altdum': ['altdum'],\n",
       " 'amttotal': ['amttotal'],\n",
       " 'casetype': ['accgdln', 'casetype', 'offguide', 'sources'],\n",
       " 'citwhere': ['citwhere', 'newcit'],\n",
       " 'combdrg2': ['combdrg2'],\n",
       " 'crimhist': ['crimhist'],\n",
       " 'disposit': ['disposit', 'dsplea', 'newcnvtn'],\n",
       " 'district': ['district'],\n",
       " 'drugmin': ['drugmin', 'smin1', 'statmin'],\n",
       " 'dsplea': ['disposit', 'dsplea', 'newcnvtn'],\n",
       " 'educatn': ['educatn', 'neweduc'],\n",
       " 'intdum': ['intdum'],\n",
       " 'methmin': ['methmin'],\n",
       " 'monrace': ['monrace'],\n",
       " 'monsex': ['monsex'],\n",
       " 'mweight': ['mweight', 'mwgt1'],\n",
       " 'newcit': ['citwhere', 'newcit'],\n",
       " 'newcnvtn': ['disposit', 'dsplea', 'newcnvtn'],\n",
       " 'neweduc': ['educatn', 'neweduc'],\n",
       " 'newrace': ['newrace'],\n",
       " 'nodrug': ['nodrug'],\n",
       " 'numdepen': ['numdepen'],\n",
       " 'offguide': ['accgdln', 'casetype', 'offguide', 'sources'],\n",
       " 'prisdum': ['prisdum', 'probatn', 'probdum', 'sentimp', 'suprdum'],\n",
       " 'probatn': ['prisdum', 'probatn', 'probdum', 'sentimp', 'suprdum'],\n",
       " 'probdum': ['prisdum', 'probatn', 'probdum', 'sentimp', 'suprdum'],\n",
       " 'quarter': ['quarter'],\n",
       " 'reas1': ['reas1'],\n",
       " 'reas2': ['reas2'],\n",
       " 'reas3': ['reas3'],\n",
       " 'regsxmin': [],\n",
       " 'relmin': ['relmin'],\n",
       " 'restdet1': ['restdet1'],\n",
       " 'restdum': ['restdum'],\n",
       " 'safe': ['safe', 'safety'],\n",
       " 'safety': ['safe', 'safety', 'xcrhissr'],\n",
       " 'senspcap': ['senspcap', 'sensplt0', 'xfolsor'],\n",
       " 'sensplt0': ['senspcap', 'sensplt0', 'xfolsor'],\n",
       " 'sentimp': ['prisdum', 'probatn', 'probdum', 'sentimp', 'suprdum'],\n",
       " 'smax1': ['smax1', 'statmax', 'xfolsor'],\n",
       " 'smin1': ['drugmin', 'smin1', 'statmin'],\n",
       " 'sources': ['accgdln', 'casetype', 'offguide', 'sources'],\n",
       " 'statmax': ['smax1', 'statmax'],\n",
       " 'statmin': ['drugmin', 'smin1', 'statmin'],\n",
       " 'supermax': ['supermax'],\n",
       " 'supermin': ['supermin'],\n",
       " 'suprdum': ['prisdum', 'probatn', 'probdum', 'sentimp', 'suprdum'],\n",
       " 'suprel': ['suprel'],\n",
       " 'timservc': ['timservc'],\n",
       " 'totchpts': ['totchpts', 'xcrhissr'],\n",
       " 'totrest': ['totrest'],\n",
       " 'totunit': ['totunit'],\n",
       " 'typemony': ['typemony'],\n",
       " 'typeoths': ['typeoths'],\n",
       " 'unit1': ['unit1'],\n",
       " 'mwgt1': ['mweight', 'mwgt1'],\n",
       " 'wgt1': ['wgt1'],\n",
       " 'xcrhissr': ['safety', 'totchpts', 'xcrhissr'],\n",
       " 'xfolsor': ['senspcap', 'sensplt0', 'smax1', 'xfolsor'],\n",
       " 'xmaxsor': ['xmaxsor', 'xminsor'],\n",
       " 'xminsor': ['xmaxsor', 'xminsor'],\n",
       " 'sentrnge': ['sentrnge']}"
      ]
     },
     "execution_count": 10,
     "metadata": {},
     "output_type": "execute_result"
    }
   ],
   "source": [
    "int_corr_feats"
   ]
  },
  {
   "cell_type": "markdown",
   "id": "cf604b50-ad80-46b4-8a9e-53f641f435fb",
   "metadata": {},
   "source": [
    "We should definitely use pca for dimensionality reduction and also to decorrelate features when modeling."
   ]
  },
  {
   "cell_type": "code",
   "execution_count": 11,
   "id": "5e705550-d174-435b-8e6a-a97e3b830244",
   "metadata": {},
   "outputs": [
    {
     "data": {
      "text/plain": [
       "1    0.955196\n",
       "0    0.044804\n",
       "Name: prisdum, dtype: float64"
      ]
     },
     "execution_count": 11,
     "metadata": {},
     "output_type": "execute_result"
    }
   ],
   "source": [
    "df['prisdum'].value_counts(normalize = True)\n",
    "# Classes are quite imbalanced"
   ]
  },
  {
   "cell_type": "code",
   "execution_count": 32,
   "id": "fe45a3bb-077b-447c-965d-4cb782bd6614",
   "metadata": {},
   "outputs": [
    {
     "data": {
      "text/plain": [
       "dtype('int64')"
      ]
     },
     "execution_count": 32,
     "metadata": {},
     "output_type": "execute_result"
    }
   ],
   "source": [
    "df['regsxmin'].dtype"
   ]
  },
  {
   "cell_type": "code",
   "execution_count": 13,
   "id": "20ea1c3e-a686-407a-9f16-87802859e57f",
   "metadata": {},
   "outputs": [
    {
     "data": {
      "text/plain": [
       "Index(['accgdln', 'age', 'altdum', 'amttotal', 'casetype', 'citwhere',\n",
       "       'combdrg2', 'crimhist', 'disposit', 'district', 'drugmin', 'dsplea',\n",
       "       'educatn', 'intdum', 'methmin', 'monrace', 'monsex', 'mweight',\n",
       "       'newcit', 'newcnvtn', 'neweduc', 'newrace', 'nodrug', 'numdepen',\n",
       "       'offguide', 'prisdum', 'probatn', 'probdum', 'quarter', 'reas1',\n",
       "       'reas2', 'reas3', 'regsxmin', 'relmin', 'restdet1', 'restdum', 'safe',\n",
       "       'safety', 'senspcap', 'sensplt0', 'sentimp', 'smax1', 'smin1',\n",
       "       'sources', 'statmax', 'statmin', 'supermax', 'supermin', 'suprdum',\n",
       "       'suprel', 'timservc', 'totchpts', 'totrest', 'totunit', 'typemony',\n",
       "       'typeoths', 'unit1', 'mwgt1', 'wgt1', 'xcrhissr', 'xfolsor', 'xmaxsor',\n",
       "       'xminsor', 'sentrnge'],\n",
       "      dtype='object')"
      ]
     },
     "execution_count": 13,
     "metadata": {},
     "output_type": "execute_result"
    }
   ],
   "source": [
    "df.columns"
   ]
  },
  {
   "cell_type": "code",
   "execution_count": 14,
   "id": "dd094e68-551c-4cd7-ac94-e81c08a07d1b",
   "metadata": {},
   "outputs": [
    {
     "data": {
      "text/plain": [
       "64"
      ]
     },
     "execution_count": 14,
     "metadata": {},
     "output_type": "execute_result"
    }
   ],
   "source": [
    "len(df.columns)"
   ]
  },
  {
   "cell_type": "code",
   "execution_count": null,
   "id": "7abdd5c4-497e-4ae1-9ea2-b1921b089202",
   "metadata": {},
   "outputs": [],
   "source": []
  }
 ],
 "metadata": {
  "kernelspec": {
   "display_name": "Python 3",
   "language": "python",
   "name": "python3"
  },
  "language_info": {
   "codemirror_mode": {
    "name": "ipython",
    "version": 3
   },
   "file_extension": ".py",
   "mimetype": "text/x-python",
   "name": "python",
   "nbconvert_exporter": "python",
   "pygments_lexer": "ipython3",
   "version": "3.8.8"
  }
 },
 "nbformat": 4,
 "nbformat_minor": 5
}
